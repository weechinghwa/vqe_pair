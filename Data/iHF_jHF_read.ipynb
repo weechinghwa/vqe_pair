{
 "cells": [
  {
   "cell_type": "markdown",
   "id": "d0be60ba",
   "metadata": {},
   "source": [
    "## Read files like Be8_SIII_new.txt\n",
    "\n",
    "**Naming convention: YYMMDD_Be8**\n",
    "\n",
    "To use this notebook to generate input for vqe:\n",
    "1. Provides source file name labeled(#filename)\n",
    "2. Parameters are to be output in the format of a list \n",
    "```\n",
    "the list = [num_orbitals,num_spin_orbitals,num_particles,num_spatial_orbitals]\n",
    "```"
   ]
  },
  {
   "cell_type": "markdown",
   "id": "3fbe2a55",
   "metadata": {},
   "source": [
    "\n",
    "\n",
    "\n",
    "### DATA ID\n",
    "# 207_Be8\n",
    "\n",
    "\n"
   ]
  },
  {
   "cell_type": "code",
   "execution_count": null,
   "id": "bf3d06cc",
   "metadata": {},
   "outputs": [],
   "source": [
    "data_ID = \"207_Be8\""
   ]
  },
  {
   "cell_type": "code",
   "execution_count": null,
   "id": "2e887385",
   "metadata": {},
   "outputs": [],
   "source": [
    "from utils import *\n",
    "## Computation config ## \n",
    "pcname = \"Hpc\" #or \"Hlp\" or Ypc\"\n",
    "quan_algo = \"VQE\"    ## (string)(VQE or adaptVQE)\n",
    "## Source File input ##\n",
    "\n",
    "### The following doesnt require setting up, unless file naming is different\n",
    "obs_onebody_csv = data_ID+\"/\"+data_ID+\"-1B_H_input.csv\"\n",
    "obs_twobody_csv = data_ID+\"/\"+data_ID+\"-2B_H_input.csv\"\n",
    "parameter_py = data_ID+\"/\"+\"parameter.txt\"\n",
    "\n",
    "def pathfilename_gen(pcname_:\"string\", input_dir_:\"string\")->\"string , string , dict\":\n",
    "    ## Setting up the path (now is directory where compute.py is ran)\n",
    "    current_path = os.getcwd()                     # Current path(which is the Compute dir)\n",
    "    try:\n",
    "        abs_main                                   # Check if the abs_main was defined before\n",
    "    except:\n",
    "        abs_main = os.path.dirname(current_path)   # Main directory containing the compute dir\n",
    "    os.chdir(abs_main)                             # Change dir to main dir(so called absolute main directory)\n",
    "\n",
    "    abspath_data_dir = os.path.join(abs_main,\"Data\")\n",
    "    abspath_result_dir = os.path.join(abs_main,\"Result\")\n",
    "    \n",
    "    #### Extract index for next dir and filename\n",
    "    rel_path_result = os.path.relpath(\"Result\",abs_main)\n",
    "    rel_PATH_result = (Path(rel_path_result))\n",
    "    subresult_dir_list = [str(x) for x in rel_PATH_result.iterdir() if x.is_dir()]\n",
    "    if len(subresult_dir_list) == 0:\n",
    "        new_index = 1\n",
    "    else:\n",
    "        latest_result_dir = (max(subresult_dir_list,key=extract_number))\n",
    "        new_index = extract_number(latest_result_dir)[0]+1\n",
    "    \n",
    "    #### Create a new directory to keep new results\n",
    "    ##### Extract neucleus name\n",
    "    input_dir_dum = re.split('-|_|\\\\.', input_dir_)\n",
    "    nucleus_name = input_dir_dum[1]\n",
    "    output_id = pcname_ + \"_\" + \"{:03d}\".format(new_index) + \"_\"\n",
    "    subresult_dir_name = os.path.join(rel_path_result,output_id+nucleus_name)\n",
    "    os.mkdir(subresult_dir_name)\n",
    "    subresult_dir = os.path.join(subresult_dir_name,output_id+nucleus_name)\n",
    "    ### Using a dictionary to store the file names to be used\n",
    "    pathfilename = {}\n",
    "    #### Input filenames or path\n",
    "    pathfilename[\"source_text\"] = os.path.join(abspath_data_dir, input_dir_)\n",
    "    #### Output # only ready to be input as fermionic op is considered not source\n",
    "    pathfilename[\"output_1B-source_csv\"] =  subresult_dir + \"-1B-source.csv\"\n",
    "    pathfilename[\"output_2B-source_csv\"] =  subresult_dir + \"-2B-source.csv\"\n",
    "    pathfilename[\"output_1B-H_input_csv\"] = subresult_dir + \"-1B-H_input.csv\"\n",
    "    pathfilename[\"output_2B-H_input_csv\"] = subresult_dir + \"-2B-H_input.csv\"\n",
    "    pathfilename[\"abstract_result\"] = subresult_dir + \"-vqe_abst.txt\"\n",
    "    pathfilename[\"full_result\"] = subresult_dir + \"-vqe_full.txt\"\n",
    "    return abs_main, nucleus_name, pathfilename\n",
    "\n",
    "# abs_main, nucleus, pathfilename = pathfilename_gen(pcname,input_dir)\n",
    "# pathfilename"
   ]
  },
  {
   "cell_type": "code",
   "execution_count": null,
   "id": "0d499644",
   "metadata": {},
   "outputs": [],
   "source": [
    "text_two = []\n",
    "with open(\"source\\Be8_SIII_new\\Vpair_Vdelta_800.txt\", 'rt') as myfile:    #filename\n",
    "# with open(\"source/Be8_SIII_new/Vpair_Vdelta_800.txt\", 'rt') as myfile:    #filename\n",
    "    for line in myfile:\n",
    "        line = line.rstrip('\\n')\n",
    "        text_two.append(line)\n"
   ]
  },
  {
   "cell_type": "markdown",
   "id": "cda0272e",
   "metadata": {},
   "source": [
    "# Parameters"
   ]
  },
  {
   "cell_type": "code",
   "execution_count": null,
   "id": "09ada263",
   "metadata": {
    "scrolled": true
   },
   "outputs": [],
   "source": [
    "num_orbitals = (6,6)\n",
    "num_particles = (4,4)\n",
    "num_spin_orbitals = 12\n",
    "num_spatial_orbitals = int(num_spin_orbitals/2)"
   ]
  },
  {
   "cell_type": "markdown",
   "id": "df15e166",
   "metadata": {},
   "source": [
    "# Onebody source setup (copy nia)"
   ]
  },
  {
   "cell_type": "code",
   "execution_count": null,
   "id": "3f6830db",
   "metadata": {},
   "outputs": [],
   "source": [
    "import pandas as pd\n",
    "index_list = list(range(0,12,1))\n",
    "\n",
    "energy = {\"index\": index_list, \n",
    "          \"epsilon\":[-26.131,-26.131,-11.415,-11.415,-11.055,-11.055,-24.174,-24.174,-9.613,-9.613,-9.230,-9.230]}\n",
    "obs_onebody_df_source = pd.DataFrame(energy)"
   ]
  },
  {
   "cell_type": "markdown",
   "id": "c5f62a7c",
   "metadata": {},
   "source": [
    "# Twobody Matrix Terms source"
   ]
  },
  {
   "cell_type": "code",
   "execution_count": null,
   "id": "3f6d526f",
   "metadata": {
    "scrolled": true
   },
   "outputs": [],
   "source": [
    "## the line being popped, is the line with labels, the list is preprocessed for df construct \n",
    "import re\n",
    "pattern = re.compile(\"isospin\")\n",
    "if pattern.search(text_two[0]) is not None:\n",
    "    text_two.pop(0)\n",
    "\n",
    "pairs = [[1,2],[3,4],[5,6],[7,8]]\n",
    "obs_twobody_df_source = pd.DataFrame(columns =[\"q_i1\", \"q_i2\", \"q_f1\", \"q_f2\", \"V_ffii\"])\n",
    "for counter, line in enumerate(text_two): \n",
    "    splitted = line.split()\n",
    "    if int(splitted[0]) == 1:\n",
    "        for x in pairs:\n",
    "            if int(splitted[1]) in x:\n",
    "                init = x\n",
    "            if int(splitted[2]) in x:\n",
    "                fina = x\n",
    "        init = (init[0]-1,init[1]-1) # minus 1 because the index in python starts with 0\n",
    "        fina = (fina[0]-1,fina[1]-1)\n",
    "        V_pair = float(splitted[3])\n",
    "    if int(splitted[0]) ==2:\n",
    "        for x in pairs:\n",
    "            if int(splitted[1]) in x:\n",
    "                init = x\n",
    "            if int(splitted[2]) in x:\n",
    "                fina = x\n",
    "        init = (init[0]+7,init[1]+7) # plus 5 because the index in python starts with 0; and proton'index starts after neutron's\n",
    "        fina = (fina[0]+7,fina[1]+7)\n",
    "        V_pair = float(splitted[3])\n",
    "    V_pair = round(V_pair,6)\n",
    "    obs_twobody_df_source.loc[counter] = [init[0],init[1],fina[0],fina[1],round(V_pair,5)]\n",
    "    obs_twobody_df_source.loc[2*counter+1] = [fina[0],fina[1],init[0],init[1],round(V_pair,5)]\n",
    "    del init, fina\n",
    "obs_twobody_df_vqe = obs_twobody_df_source.copy()"
   ]
  },
  {
   "cell_type": "code",
   "execution_count": null,
   "id": "2c1ddbcf",
   "metadata": {},
   "outputs": [],
   "source": [
    "obs_twobody_df_vqe.drop_duplicates(inplace=True)\n",
    "obs_twobody_df_vqe = obs_twobody_df_vqe.drop_duplicates().reset_index()\n",
    "obs_twobody_df_vqe"
   ]
  },
  {
   "cell_type": "code",
   "execution_count": null,
   "id": "3c04cc2a",
   "metadata": {},
   "outputs": [],
   "source": [
    "# ## To generate twobody terms that elimiated the first 2 two hartree fock states \n",
    "# ## (basically consider a helium core, and dont allow the lowest pair to participate the pariing interaction)\n",
    "\n",
    "# for index, row in obs_twobody_df_vqe.iterrows():\n",
    "#     if (row['q_i1'] == 0) or (row['q_f1'] == 0) or (row['q_i1'] == 6) or (row['q_f1'] == 6):\n",
    "#         obs_twobody_df_vqe.drop(index,inplace=True)\n",
    "\n",
    "# obs_twobody_df_vqe"
   ]
  },
  {
   "cell_type": "markdown",
   "id": "db2fc4b0",
   "metadata": {},
   "source": [
    "# Filter out unwanted interactions from obs_twobody_df\n",
    "# Create obs_twobody_H_input_df_output (input for VQE)"
   ]
  },
  {
   "cell_type": "code",
   "execution_count": null,
   "id": "45acf6d4",
   "metadata": {},
   "outputs": [],
   "source": [
    "obs_twobody_df_vqe=obs_twobody_df_vqe.sort_values([\"q_i1\",\"q_f1\"])\n",
    "obs_twobody_df_vqe = obs_twobody_df_vqe.reset_index()\n",
    "obs_twobody_df_vqe = obs_twobody_df_vqe[[\"q_i1\",\"q_i2\",\"q_f1\",\"q_f2\",\"V_ffii\"]]\n",
    "obs_twobody_df_vqe.to_csv(obs_twobody_csv)\n",
    "obs_twobody_df_vqe"
   ]
  },
  {
   "cell_type": "markdown",
   "id": "d87a5be7",
   "metadata": {},
   "source": [
    "# Create obs_onebody_df_vqe (input for VQE)"
   ]
  },
  {
   "cell_type": "code",
   "execution_count": null,
   "id": "e23d072d",
   "metadata": {},
   "outputs": [],
   "source": [
    "obs_onebody_df_source"
   ]
  },
  {
   "cell_type": "code",
   "execution_count": null,
   "id": "c76db3af",
   "metadata": {},
   "outputs": [],
   "source": [
    "# fermin = (-10.853 + (-4.162))/2\n",
    "# fermip = (-15.475 + (-15.459))/2\n",
    "\n",
    "### Below consider energy differences between levels\n",
    "obs_onebody_df_vqe = pd.DataFrame(columns =['q_i','q_f','epsilon'])\n",
    "\n",
    "### init_fina_list\n",
    "epsilon_list = obs_onebody_df_source.loc[:,\"epsilon\"]\n",
    "import math\n",
    "for counter, i in enumerate(epsilon_list):\n",
    "    epsilon = i\n",
    "#     if counter < num_orbitals[0]:\n",
    "#         epsilon = math.sqrt((i - (fermin))**2)\n",
    "#     if counter >= num_orbitals[0]:\n",
    "#         epsilon = math.sqrt((i - (fermip))**2)\n",
    "    obs_onebody_df_vqe.loc[counter] = [counter,counter, round(epsilon,6)]\n",
    "\n",
    "obs_onebody_df_vqe.to_csv(obs_onebody_csv)\n",
    "obs_onebody_df_vqe"
   ]
  },
  {
   "cell_type": "code",
   "execution_count": null,
   "id": "a22c2aa8",
   "metadata": {
    "scrolled": true
   },
   "outputs": [],
   "source": [
    "# %store promotion_list\n",
    "# %store num_orbitals\n",
    "# %store num_particles\n",
    "# %store num_spin_orbitals\n",
    "# %store obs_onebody_df_vqe\n",
    "# %store obs_twobody_df\n",
    "# %store abs_main\n",
    "# %store pathfilename\n",
    "# %store nucleus_name"
   ]
  },
  {
   "cell_type": "code",
   "execution_count": null,
   "id": "4837886e",
   "metadata": {},
   "outputs": [],
   "source": [
    "obs_twobody_df = obs_twobody_df_vqe\n",
    "from qiskit_nature.second_q.operators import FermionicOp\n",
    "import pandas as pd\n",
    "tmp_ham = {}\n",
    "two_factor = 0.5\n",
    "### Two body Terms: Pairing interaction\n",
    "for index, row in obs_twobody_df.iterrows():\n",
    "    init_1 = int(row['q_i1']); init_2 = int(row['q_i2']);\n",
    "    fina_1 = int(row['q_f1']); fina_2 = int(row['q_f2']);\n",
    "    the_twostring = \"+_\" +str(fina_1) + \" \" + \"+_\" +str(fina_2) + \" \" + \"-_\" +str(init_1) + \" \" + \"-_\" +str(init_2)\n",
    "    tmp_ham[the_twostring] = two_factor*row['V_ffii']\n",
    "len(tmp_ham)"
   ]
  },
  {
   "cell_type": "code",
   "execution_count": null,
   "id": "8dc3d680",
   "metadata": {},
   "outputs": [],
   "source": [
    "Hamiltonian = FermionicOp(tmp_ham, \n",
    "                          num_spin_orbitals=num_spin_orbitals, \n",
    "                          copy=False)\n"
   ]
  },
  {
   "cell_type": "code",
   "execution_count": null,
   "id": "84b49249",
   "metadata": {},
   "outputs": [],
   "source": [
    "print(Hamiltonian)"
   ]
  },
  {
   "cell_type": "code",
   "execution_count": null,
   "id": "5015a50c",
   "metadata": {},
   "outputs": [],
   "source": [
    "Hamiltonian.is_hermitian()"
   ]
  },
  {
   "cell_type": "code",
   "execution_count": null,
   "id": "c5c0aec9",
   "metadata": {},
   "outputs": [],
   "source": []
  },
  {
   "cell_type": "code",
   "execution_count": null,
   "id": "0edeb583",
   "metadata": {},
   "outputs": [],
   "source": []
  }
 ],
 "metadata": {
  "kernelspec": {
   "display_name": "Python 3 (ipykernel)",
   "language": "python",
   "name": "python3"
  },
  "language_info": {
   "codemirror_mode": {
    "name": "ipython",
    "version": 3
   },
   "file_extension": ".py",
   "mimetype": "text/x-python",
   "name": "python",
   "nbconvert_exporter": "python",
   "pygments_lexer": "ipython3",
   "version": "3.7.11"
  }
 },
 "nbformat": 4,
 "nbformat_minor": 5
}
