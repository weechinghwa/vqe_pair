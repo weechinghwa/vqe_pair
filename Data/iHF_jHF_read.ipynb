{
 "cells": [
  {
   "cell_type": "markdown",
   "id": "d0be60ba",
   "metadata": {},
   "source": [
    "## Read files like Be8_SIII_new.txt\n",
    "\n",
    "**Naming convention: YYMMDD_Be8**\n",
    "\n",
    "To use this notebook to generate input for vqe:\n",
    "1. Provides source file name labeled(#filename)\n",
    "2. Parameters are to be output in the format of a list \n",
    "```\n",
    "the list = [num_orbitals,num_spin_orbitals,num_particles,num_spatial_orbitals]\n",
    "```"
   ]
  },
  {
   "cell_type": "code",
   "execution_count": 1,
   "id": "2e887385",
   "metadata": {},
   "outputs": [],
   "source": [
    "from utils import *\n",
    "## Computation config ## \n",
    "pcname = \"Hpc\" #or \"Hlp\" or Ypc\"\n",
    "quan_algo = \"VQE\"    ## (string)(VQE or adaptVQE)\n",
    "## Source File input ##\n",
    "input_dir = \"230412_Be8\"\n",
    "\n",
    "### The following doesnt require setting up, unless file naming is different\n",
    "obs_onebody_csv = input_dir+\"/\"+input_dir+\"-1B_H_input.csv\"\n",
    "obs_twobody_csv = input_dir+\"/\"+input_dir+\"-2B_H_input.csv\"\n",
    "parameter_py = input_dir+\"/\"+\"parameter.txt\"\n",
    "\n",
    "def pathfilename_gen(pcname_:\"string\", input_dir_:\"string\")->\"string , string , dict\":\n",
    "    ## Setting up the path (now is directory where compute.py is ran)\n",
    "    current_path = os.getcwd()                     # Current path(which is the Compute dir)\n",
    "    try:\n",
    "        abs_main                                   # Check if the abs_main was defined before\n",
    "    except:\n",
    "        abs_main = os.path.dirname(current_path)   # Main directory containing the compute dir\n",
    "    os.chdir(abs_main)                             # Change dir to main dir(so called absolute main directory)\n",
    "\n",
    "    abspath_data_dir = os.path.join(abs_main,\"Data\")\n",
    "    abspath_result_dir = os.path.join(abs_main,\"Result\")\n",
    "    \n",
    "    #### Extract index for next dir and filename\n",
    "    rel_path_result = os.path.relpath(\"Result\",abs_main)\n",
    "    rel_PATH_result = (Path(rel_path_result))\n",
    "    subresult_dir_list = [str(x) for x in rel_PATH_result.iterdir() if x.is_dir()]\n",
    "    if len(subresult_dir_list) == 0:\n",
    "        new_index = 1\n",
    "    else:\n",
    "        latest_result_dir = (max(subresult_dir_list,key=extract_number))\n",
    "        new_index = extract_number(latest_result_dir)[0]+1\n",
    "    \n",
    "    #### Create a new directory to keep new results\n",
    "    ##### Extract neucleus name\n",
    "    input_dir_dum = re.split('-|_|\\\\.', input_dir_)\n",
    "    nucleus_name = input_dir_dum[1]\n",
    "    output_id = pcname_ + \"_\" + \"{:03d}\".format(new_index) + \"_\"\n",
    "    subresult_dir_name = os.path.join(rel_path_result,output_id+nucleus_name)\n",
    "    os.mkdir(subresult_dir_name)\n",
    "    subresult_dir = os.path.join(subresult_dir_name,output_id+nucleus_name)\n",
    "    ### Using a dictionary to store the file names to be used\n",
    "    pathfilename = {}\n",
    "    #### Input filenames or path\n",
    "    pathfilename[\"source_text\"] = os.path.join(abspath_data_dir, input_dir_)\n",
    "    #### Output # only ready to be input as fermionic op is considered not source\n",
    "    pathfilename[\"output_1B-source_csv\"] =  subresult_dir + \"-1B-source.csv\"\n",
    "    pathfilename[\"output_2B-source_csv\"] =  subresult_dir + \"-2B-source.csv\"\n",
    "    pathfilename[\"output_1B-H_input_csv\"] = subresult_dir + \"-1B-H_input.csv\"\n",
    "    pathfilename[\"output_2B-H_input_csv\"] = subresult_dir + \"-2B-H_input.csv\"\n",
    "    pathfilename[\"abstract_result\"] = subresult_dir + \"-vqe_abst.txt\"\n",
    "    pathfilename[\"full_result\"] = subresult_dir + \"-vqe_full.txt\"\n",
    "    return abs_main, nucleus_name, pathfilename\n",
    "\n",
    "# abs_main, nucleus, pathfilename = pathfilename_gen(pcname,input_dir)\n",
    "# pathfilename"
   ]
  },
  {
   "cell_type": "code",
   "execution_count": 2,
   "id": "a121dfd9",
   "metadata": {
    "scrolled": true
   },
   "outputs": [],
   "source": [
    "parameter_py = \"230412_Be8\\parameter.txt\"\n",
    "parameter_txt = []\n"
   ]
  },
  {
   "cell_type": "code",
   "execution_count": 3,
   "id": "abab9e2f",
   "metadata": {},
   "outputs": [],
   "source": [
    "from utils import *"
   ]
  },
  {
   "cell_type": "code",
   "execution_count": 4,
   "id": "0d499644",
   "metadata": {},
   "outputs": [],
   "source": [
    "text_two = []\n",
    "with open (\"source/Be8_SIII_new/Vpair_Vdelta_800.txt\", 'rt') as myfile:    #filename\n",
    "    for line in myfile:\n",
    "        line = line.rstrip('\\n')\n",
    "        text_two.append(line)"
   ]
  },
  {
   "cell_type": "markdown",
   "id": "cda0272e",
   "metadata": {},
   "source": [
    "# Parameters"
   ]
  },
  {
   "cell_type": "code",
   "execution_count": 5,
   "id": "09ada263",
   "metadata": {
    "scrolled": true
   },
   "outputs": [],
   "source": [
    "num_orbitals = (6,6)\n",
    "num_particles = (4,4)\n",
    "num_spin_orbitals = 12\n",
    "num_spatial_orbitals = int(num_spin_orbitals/2)"
   ]
  },
  {
   "cell_type": "code",
   "execution_count": 6,
   "id": "3f6830db",
   "metadata": {},
   "outputs": [],
   "source": [
    "import pandas as pd\n",
    "energy = {\"index\": [0,1,2,3,4,5,6,7,8,9,10,11], \n",
    "          \"epsilon\":[-26.131,-26.131,-11.415,-11.415,-11.055,-11.055,-24.174,-24.174,-9.613,-9.613,-9.230,-9.230]}\n",
    "\n",
    "obs_onebody_df_source = pd.DataFrame(energy)"
   ]
  },
  {
   "cell_type": "markdown",
   "id": "c5f62a7c",
   "metadata": {},
   "source": [
    "# Twobody Matrix Terms source"
   ]
  },
  {
   "cell_type": "code",
   "execution_count": 7,
   "id": "3f6d526f",
   "metadata": {
    "scrolled": true
   },
   "outputs": [],
   "source": [
    "import re\n",
    "pattern = re.compile(\"isospin\")\n",
    "if pattern.search(text_two[0]) is not None:\n",
    "    text_two.pop(0)\n",
    "pairs = [[1,2],[3,4],[5,6]]\n",
    "obs_twobody_df_source = pd.DataFrame(columns =[\"q_i1\", \"q_i2\", \"q_f1\", \"q_f2\", \"V_ffii\"])\n",
    "for counter, line in enumerate(text_two): \n",
    "    splitted = line.split()\n",
    "    if int(splitted[0]) == 1:\n",
    "        for x in pairs:\n",
    "            if int(splitted[1]) in x:\n",
    "                init = x\n",
    "            if int(splitted[2]) in x:\n",
    "                fina = x\n",
    "        init = (init[0]-1,init[1]-1) # minus 1 because the index in python starts with 0\n",
    "        fina = (fina[0]-1,fina[1]-1)\n",
    "        V_pair = float(splitted[3])\n",
    "    if int(splitted[0]) ==2:\n",
    "        for x in pairs:\n",
    "            if int(splitted[1]) in x:\n",
    "                init = x\n",
    "            if int(splitted[2]) in x:\n",
    "                fina = x\n",
    "        init = (init[0]+5,init[1]+5) # plus 5 because the index in python starts with 0; and proton'index starts after neutron's\n",
    "        fina = (fina[0]+5,fina[1]+5)\n",
    "        V_pair = float(splitted[3])\n",
    "    V_pair = round(V_pair,6)\n",
    "    obs_twobody_df_source.loc[counter] = [init[0],init[1],fina[0],fina[1],V_pair]\n",
    "    del init, fina\n",
    "obs_twobody_df_vqe = obs_twobody_df_source.copy()"
   ]
  },
  {
   "cell_type": "markdown",
   "id": "db2fc4b0",
   "metadata": {},
   "source": [
    "# Filter out unwanted interactions from obs_twobody_df\n",
    "# Create obs_twobody_H_input_df_output (input for VQE)"
   ]
  },
  {
   "cell_type": "code",
   "execution_count": 8,
   "id": "7f544d35",
   "metadata": {
    "scrolled": true
   },
   "outputs": [],
   "source": [
    "# ### To csv\n",
    "# obs_twobody_df_vqe.to_csv(pathfilename['output_2B-H_input_csv'])\n",
    "# obs_twobody_df_vqe"
   ]
  },
  {
   "cell_type": "markdown",
   "id": "d87a5be7",
   "metadata": {},
   "source": [
    "# Create obs_onebody_df_vqe (input for VQE)"
   ]
  },
  {
   "cell_type": "code",
   "execution_count": 12,
   "id": "e23d072d",
   "metadata": {},
   "outputs": [
    {
     "data": {
      "text/html": [
       "<div>\n",
       "<style scoped>\n",
       "    .dataframe tbody tr th:only-of-type {\n",
       "        vertical-align: middle;\n",
       "    }\n",
       "\n",
       "    .dataframe tbody tr th {\n",
       "        vertical-align: top;\n",
       "    }\n",
       "\n",
       "    .dataframe thead th {\n",
       "        text-align: right;\n",
       "    }\n",
       "</style>\n",
       "<table border=\"1\" class=\"dataframe\">\n",
       "  <thead>\n",
       "    <tr style=\"text-align: right;\">\n",
       "      <th></th>\n",
       "      <th>index</th>\n",
       "      <th>epsilon</th>\n",
       "    </tr>\n",
       "  </thead>\n",
       "  <tbody>\n",
       "    <tr>\n",
       "      <th>0</th>\n",
       "      <td>0</td>\n",
       "      <td>-26.131</td>\n",
       "    </tr>\n",
       "    <tr>\n",
       "      <th>1</th>\n",
       "      <td>1</td>\n",
       "      <td>-26.131</td>\n",
       "    </tr>\n",
       "    <tr>\n",
       "      <th>2</th>\n",
       "      <td>2</td>\n",
       "      <td>-11.415</td>\n",
       "    </tr>\n",
       "    <tr>\n",
       "      <th>3</th>\n",
       "      <td>3</td>\n",
       "      <td>-11.415</td>\n",
       "    </tr>\n",
       "    <tr>\n",
       "      <th>4</th>\n",
       "      <td>4</td>\n",
       "      <td>-11.055</td>\n",
       "    </tr>\n",
       "    <tr>\n",
       "      <th>5</th>\n",
       "      <td>5</td>\n",
       "      <td>-11.055</td>\n",
       "    </tr>\n",
       "    <tr>\n",
       "      <th>6</th>\n",
       "      <td>6</td>\n",
       "      <td>-24.174</td>\n",
       "    </tr>\n",
       "    <tr>\n",
       "      <th>7</th>\n",
       "      <td>7</td>\n",
       "      <td>-24.174</td>\n",
       "    </tr>\n",
       "    <tr>\n",
       "      <th>8</th>\n",
       "      <td>8</td>\n",
       "      <td>-9.613</td>\n",
       "    </tr>\n",
       "    <tr>\n",
       "      <th>9</th>\n",
       "      <td>9</td>\n",
       "      <td>-9.613</td>\n",
       "    </tr>\n",
       "    <tr>\n",
       "      <th>10</th>\n",
       "      <td>10</td>\n",
       "      <td>-9.230</td>\n",
       "    </tr>\n",
       "    <tr>\n",
       "      <th>11</th>\n",
       "      <td>11</td>\n",
       "      <td>-9.230</td>\n",
       "    </tr>\n",
       "  </tbody>\n",
       "</table>\n",
       "</div>"
      ],
      "text/plain": [
       "    index  epsilon\n",
       "0       0  -26.131\n",
       "1       1  -26.131\n",
       "2       2  -11.415\n",
       "3       3  -11.415\n",
       "4       4  -11.055\n",
       "5       5  -11.055\n",
       "6       6  -24.174\n",
       "7       7  -24.174\n",
       "8       8   -9.613\n",
       "9       9   -9.613\n",
       "10     10   -9.230\n",
       "11     11   -9.230"
      ]
     },
     "execution_count": 12,
     "metadata": {},
     "output_type": "execute_result"
    }
   ],
   "source": [
    "obs_onebody_df_source"
   ]
  },
  {
   "cell_type": "code",
   "execution_count": 25,
   "id": "c76db3af",
   "metadata": {},
   "outputs": [
    {
     "data": {
      "text/html": [
       "<div>\n",
       "<style scoped>\n",
       "    .dataframe tbody tr th:only-of-type {\n",
       "        vertical-align: middle;\n",
       "    }\n",
       "\n",
       "    .dataframe tbody tr th {\n",
       "        vertical-align: top;\n",
       "    }\n",
       "\n",
       "    .dataframe thead th {\n",
       "        text-align: right;\n",
       "    }\n",
       "</style>\n",
       "<table border=\"1\" class=\"dataframe\">\n",
       "  <thead>\n",
       "    <tr style=\"text-align: right;\">\n",
       "      <th></th>\n",
       "      <th>q_i</th>\n",
       "      <th>q_f</th>\n",
       "      <th>epsilon</th>\n",
       "    </tr>\n",
       "  </thead>\n",
       "  <tbody>\n",
       "    <tr>\n",
       "      <th>0</th>\n",
       "      <td>0.0</td>\n",
       "      <td>0.0</td>\n",
       "      <td>14.8960</td>\n",
       "    </tr>\n",
       "    <tr>\n",
       "      <th>1</th>\n",
       "      <td>1.0</td>\n",
       "      <td>1.0</td>\n",
       "      <td>14.8960</td>\n",
       "    </tr>\n",
       "    <tr>\n",
       "      <th>2</th>\n",
       "      <td>2.0</td>\n",
       "      <td>2.0</td>\n",
       "      <td>0.1800</td>\n",
       "    </tr>\n",
       "    <tr>\n",
       "      <th>3</th>\n",
       "      <td>3.0</td>\n",
       "      <td>3.0</td>\n",
       "      <td>0.1800</td>\n",
       "    </tr>\n",
       "    <tr>\n",
       "      <th>4</th>\n",
       "      <td>4.0</td>\n",
       "      <td>4.0</td>\n",
       "      <td>0.1800</td>\n",
       "    </tr>\n",
       "    <tr>\n",
       "      <th>5</th>\n",
       "      <td>5.0</td>\n",
       "      <td>5.0</td>\n",
       "      <td>0.1800</td>\n",
       "    </tr>\n",
       "    <tr>\n",
       "      <th>6</th>\n",
       "      <td>6.0</td>\n",
       "      <td>6.0</td>\n",
       "      <td>14.7525</td>\n",
       "    </tr>\n",
       "    <tr>\n",
       "      <th>7</th>\n",
       "      <td>7.0</td>\n",
       "      <td>7.0</td>\n",
       "      <td>14.7525</td>\n",
       "    </tr>\n",
       "    <tr>\n",
       "      <th>8</th>\n",
       "      <td>8.0</td>\n",
       "      <td>8.0</td>\n",
       "      <td>0.1915</td>\n",
       "    </tr>\n",
       "    <tr>\n",
       "      <th>9</th>\n",
       "      <td>9.0</td>\n",
       "      <td>9.0</td>\n",
       "      <td>0.1915</td>\n",
       "    </tr>\n",
       "    <tr>\n",
       "      <th>10</th>\n",
       "      <td>10.0</td>\n",
       "      <td>10.0</td>\n",
       "      <td>0.1915</td>\n",
       "    </tr>\n",
       "    <tr>\n",
       "      <th>11</th>\n",
       "      <td>11.0</td>\n",
       "      <td>11.0</td>\n",
       "      <td>0.1915</td>\n",
       "    </tr>\n",
       "  </tbody>\n",
       "</table>\n",
       "</div>"
      ],
      "text/plain": [
       "     q_i   q_f  epsilon\n",
       "0    0.0   0.0  14.8960\n",
       "1    1.0   1.0  14.8960\n",
       "2    2.0   2.0   0.1800\n",
       "3    3.0   3.0   0.1800\n",
       "4    4.0   4.0   0.1800\n",
       "5    5.0   5.0   0.1800\n",
       "6    6.0   6.0  14.7525\n",
       "7    7.0   7.0  14.7525\n",
       "8    8.0   8.0   0.1915\n",
       "9    9.0   9.0   0.1915\n",
       "10  10.0  10.0   0.1915\n",
       "11  11.0  11.0   0.1915"
      ]
     },
     "execution_count": 25,
     "metadata": {},
     "output_type": "execute_result"
    }
   ],
   "source": [
    "fermin = (-11.415 + (-11.055))/2\n",
    "fermip = (-9.613 + (-9.230))/2\n",
    "\n",
    "### Below consider energy differences between levels\n",
    "obs_onebody_df_vqe = pd.DataFrame(columns =['q_i','q_f','epsilon'])\n",
    "\n",
    "### init_fina_list\n",
    "if_list = sin_bod_if_list_gen(num_orbitals)\n",
    "epsilon_list = obs_onebody_df_source.loc[:,\"epsilon\"]\n",
    "import math\n",
    "for counter, i in enumerate(epsilon_list):\n",
    "    if counter < num_orbitals[0]:\n",
    "        epsilon = math.sqrt((i - (fermin))**2)\n",
    "    if counter >= num_orbitals[0]:\n",
    "        epsilon = math.sqrt((i - (fermip))**2)\n",
    "    obs_onebody_df_vqe.loc[counter] = [counter,counter, round(epsilon,6)]\n",
    "\n",
    "obs_onebody_df_vqe.to_csv(\"203_Be8/203_Be8-1B_H_input.csv\")\n",
    "obs_onebody_df_vqe"
   ]
  },
  {
   "cell_type": "code",
   "execution_count": 10,
   "id": "a22c2aa8",
   "metadata": {
    "scrolled": true
   },
   "outputs": [],
   "source": [
    "# %store promotion_list\n",
    "# %store num_orbitals\n",
    "# %store num_particles\n",
    "# %store num_spin_orbitals\n",
    "# %store obs_onebody_df_vqe\n",
    "# %store obs_twobody_df\n",
    "# %store abs_main\n",
    "# %store pathfilename\n",
    "# %store nucleus_name"
   ]
  },
  {
   "cell_type": "code",
   "execution_count": 11,
   "id": "4837886e",
   "metadata": {},
   "outputs": [
    {
     "ename": "NameError",
     "evalue": "name 'include_twobody' is not defined",
     "output_type": "error",
     "traceback": [
      "\u001b[1;31m---------------------------------------------------------------------------\u001b[0m",
      "\u001b[1;31mNameError\u001b[0m                                 Traceback (most recent call last)",
      "\u001b[1;32m~\\AppData\\Local\\Temp/ipykernel_20840/2645375166.py\u001b[0m in \u001b[0;36m<module>\u001b[1;34m\u001b[0m\n\u001b[0;32m      5\u001b[0m \u001b[1;33m\u001b[0m\u001b[0m\n\u001b[0;32m      6\u001b[0m \u001b[1;31m### Two body Terms: Pairing interaction\u001b[0m\u001b[1;33m\u001b[0m\u001b[1;33m\u001b[0m\u001b[1;33m\u001b[0m\u001b[0m\n\u001b[1;32m----> 7\u001b[1;33m \u001b[1;32mif\u001b[0m \u001b[0minclude_twobody\u001b[0m \u001b[1;33m==\u001b[0m \u001b[1;32mTrue\u001b[0m\u001b[1;33m:\u001b[0m\u001b[1;33m\u001b[0m\u001b[1;33m\u001b[0m\u001b[0m\n\u001b[0m\u001b[0;32m      8\u001b[0m     \u001b[1;32mfor\u001b[0m \u001b[0mindex\u001b[0m\u001b[1;33m,\u001b[0m \u001b[0mrow\u001b[0m \u001b[1;32min\u001b[0m \u001b[0mobs_twobody_df\u001b[0m\u001b[1;33m.\u001b[0m\u001b[0miterrows\u001b[0m\u001b[1;33m(\u001b[0m\u001b[1;33m)\u001b[0m\u001b[1;33m:\u001b[0m\u001b[1;33m\u001b[0m\u001b[1;33m\u001b[0m\u001b[0m\n\u001b[0;32m      9\u001b[0m         \u001b[0minit_1\u001b[0m \u001b[1;33m=\u001b[0m \u001b[0mint\u001b[0m\u001b[1;33m(\u001b[0m\u001b[0mrow\u001b[0m\u001b[1;33m[\u001b[0m\u001b[1;34m'q_i1'\u001b[0m\u001b[1;33m]\u001b[0m\u001b[1;33m)\u001b[0m\u001b[1;33m;\u001b[0m \u001b[0minit_2\u001b[0m \u001b[1;33m=\u001b[0m \u001b[0mint\u001b[0m\u001b[1;33m(\u001b[0m\u001b[0mrow\u001b[0m\u001b[1;33m[\u001b[0m\u001b[1;34m'q_i2'\u001b[0m\u001b[1;33m]\u001b[0m\u001b[1;33m)\u001b[0m\u001b[1;33m;\u001b[0m\u001b[1;33m\u001b[0m\u001b[1;33m\u001b[0m\u001b[0m\n",
      "\u001b[1;31mNameError\u001b[0m: name 'include_twobody' is not defined"
     ]
    }
   ],
   "source": [
    "obs_twobody_df = obs_twobody_df_vqe\n",
    "from qiskit_nature.second_q.operators import FermionicOp\n",
    "import pandas as pd\n",
    "tmp_ham = {}\n",
    "\n",
    "### Two body Terms: Pairing interaction\n",
    "if include_twobody == True:\n",
    "    for index, row in obs_twobody_df.iterrows():\n",
    "        init_1 = int(row['q_i1']); init_2 = int(row['q_i2']);\n",
    "        fina_1 = int(row['q_f1']); fina_2 = int(row['q_f2']);\n",
    "        the_twostring = \"+_\" +str(fina_1) + \" \" + \"+_\" +str(fina_2) + \" \" + \"-_\" +str(init_1) + \" \" + \"-_\" +str(init_2)\n",
    "        tmp_ham[the_twostring] = two_factor*row['V_ffii']\n",
    "len(tmp_ham)"
   ]
  },
  {
   "cell_type": "code",
   "execution_count": null,
   "id": "8dc3d680",
   "metadata": {},
   "outputs": [],
   "source": [
    "Hamiltonian = FermionicOp(tmp_ham, \n",
    "                          num_spin_orbitals=num_spin_orbitals, \n",
    "                          copy=False)\n"
   ]
  },
  {
   "cell_type": "code",
   "execution_count": null,
   "id": "84b49249",
   "metadata": {},
   "outputs": [],
   "source": [
    "Hamiltonian"
   ]
  },
  {
   "cell_type": "code",
   "execution_count": null,
   "id": "5015a50c",
   "metadata": {},
   "outputs": [],
   "source": []
  }
 ],
 "metadata": {
  "kernelspec": {
   "display_name": "Python 3 (ipykernel)",
   "language": "python",
   "name": "python3"
  },
  "language_info": {
   "codemirror_mode": {
    "name": "ipython",
    "version": 3
   },
   "file_extension": ".py",
   "mimetype": "text/x-python",
   "name": "python",
   "nbconvert_exporter": "python",
   "pygments_lexer": "ipython3",
   "version": "3.7.11"
  }
 },
 "nbformat": 4,
 "nbformat_minor": 5
}
