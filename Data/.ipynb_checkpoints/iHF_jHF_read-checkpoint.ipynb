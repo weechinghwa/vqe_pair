{
 "cells": [
  {
   "cell_type": "markdown",
   "id": "d0be60ba",
   "metadata": {},
   "source": [
    "## Read files like Be8_SIII_new.txt\n",
    "\n",
    "**Naming convention: YYMMDD_Be8**\n",
    "\n",
    "To use this notebook to generate input for vqe:\n",
    "1. Provides source file name labeled(#filename)\n",
    "2. Parameters are to be output in the format of a list \n",
    "```\n",
    "the list = [num_orbitals,num_spin_orbitals,num_particles,num_spatial_orbitals]\n",
    "```"
   ]
  },
  {
   "cell_type": "markdown",
   "id": "3fbe2a55",
   "metadata": {},
   "source": [
    "\n",
    "\n",
    "\n",
    "### DATA ID\n",
    "# 210_Be9\n",
    "\n",
    "\n"
   ]
  },
  {
   "cell_type": "code",
   "execution_count": 1,
   "id": "bf3d06cc",
   "metadata": {},
   "outputs": [],
   "source": [
    "data_ID = \"210_Be9\""
   ]
  },
  {
   "cell_type": "code",
   "execution_count": 2,
   "id": "2e887385",
   "metadata": {},
   "outputs": [],
   "source": [
    "from utils import *\n",
    "## Computation config ## \n",
    "pcname = \"Hpc\" #or \"Hlp\" or Ypc\"\n",
    "quan_algo = \"VQE\"    ## (string)(VQE or adaptVQE)\n",
    "## Source File input ##\n",
    "\n",
    "### The following doesnt require setting up, unless file naming is different\n",
    "obs_onebody_csv = data_ID+\"/\"+data_ID+\"-1B_H_input.csv\"\n",
    "obs_twobody_csv = data_ID+\"/\"+data_ID+\"-2B_H_input.csv\"\n",
    "parameter_py = data_ID+\"/\"+\"parameter.txt\"\n",
    "\n",
    "def pathfilename_gen(pcname_:\"string\", input_dir_:\"string\")->\"string , string , dict\":\n",
    "    ## Setting up the path (now is directory where compute.py is ran)\n",
    "    current_path = os.getcwd()                     # Current path(which is the Compute dir)\n",
    "    try:\n",
    "        abs_main                                   # Check if the abs_main was defined before\n",
    "    except:\n",
    "        abs_main = os.path.dirname(current_path)   # Main directory containing the compute dir\n",
    "    os.chdir(abs_main)                             # Change dir to main dir(so called absolute main directory)\n",
    "\n",
    "    abspath_data_dir = os.path.join(abs_main,\"Data\")\n",
    "    abspath_result_dir = os.path.join(abs_main,\"Result\")\n",
    "    \n",
    "    #### Extract index for next dir and filename\n",
    "    rel_path_result = os.path.relpath(\"Result\",abs_main)\n",
    "    rel_PATH_result = (Path(rel_path_result))\n",
    "    subresult_dir_list = [str(x) for x in rel_PATH_result.iterdir() if x.is_dir()]\n",
    "    if len(subresult_dir_list) == 0:\n",
    "        new_index = 1\n",
    "    else:\n",
    "        latest_result_dir = (max(subresult_dir_list,key=extract_number))\n",
    "        new_index = extract_number(latest_result_dir)[0]+1\n",
    "    \n",
    "    #### Create a new directory to keep new results\n",
    "    ##### Extract neucleus name\n",
    "    input_dir_dum = re.split('-|_|\\\\.', input_dir_)\n",
    "    nucleus_name = input_dir_dum[1]\n",
    "    output_id = pcname_ + \"_\" + \"{:03d}\".format(new_index) + \"_\"\n",
    "    subresult_dir_name = os.path.join(rel_path_result,output_id+nucleus_name)\n",
    "    os.mkdir(subresult_dir_name)\n",
    "    subresult_dir = os.path.join(subresult_dir_name,output_id+nucleus_name)\n",
    "    ### Using a dictionary to store the file names to be used\n",
    "    pathfilename = {}\n",
    "    #### Input filenames or path\n",
    "    pathfilename[\"source_text\"] = os.path.join(abspath_data_dir, input_dir_)\n",
    "    #### Output # only ready to be input as fermionic op is considered not source\n",
    "    pathfilename[\"output_1B-source_csv\"] =  subresult_dir + \"-1B-source.csv\"\n",
    "    pathfilename[\"output_2B-source_csv\"] =  subresult_dir + \"-2B-source.csv\"\n",
    "    pathfilename[\"output_1B-H_input_csv\"] = subresult_dir + \"-1B-H_input.csv\"\n",
    "    pathfilename[\"output_2B-H_input_csv\"] = subresult_dir + \"-2B-H_input.csv\"\n",
    "    pathfilename[\"abstract_result\"] = subresult_dir + \"-vqe_abst.txt\"\n",
    "    pathfilename[\"full_result\"] = subresult_dir + \"-vqe_full.txt\"\n",
    "    return abs_main, nucleus_name, pathfilename\n",
    "\n",
    "# abs_main, nucleus, pathfilename = pathfilename_gen(pcname,input_dir)\n",
    "# pathfilename"
   ]
  },
  {
   "cell_type": "code",
   "execution_count": 3,
   "id": "0d499644",
   "metadata": {},
   "outputs": [],
   "source": [
    "text_two = []\n",
    "with open(\"source\\Be9_SIII_0508\\Vpair_Vdelta_800_Be9_EFA_lower.txt\", 'rt') as myfile:    #filename\n",
    "# with open(\"source/Be8_SIII_new/Vpair_Vdelta_800.txt\", 'rt') as myfile:    #filename\n",
    "    for line in myfile:\n",
    "        line = line.rstrip('\\n')\n",
    "        text_two.append(line)"
   ]
  },
  {
   "cell_type": "markdown",
   "id": "cda0272e",
   "metadata": {},
   "source": [
    "# Parameters"
   ]
  },
  {
   "cell_type": "code",
   "execution_count": 4,
   "id": "09ada263",
   "metadata": {
    "scrolled": true
   },
   "outputs": [],
   "source": [
    "num_orbitals = (6,6)\n",
    "num_particles = (5,4)\n",
    "num_spin_orbitals = 12\n",
    "num_spatial_orbitals = int(num_spin_orbitals/2)"
   ]
  },
  {
   "cell_type": "markdown",
   "id": "df15e166",
   "metadata": {},
   "source": [
    "# Onebody source setup (copy nia)"
   ]
  },
  {
   "cell_type": "code",
   "execution_count": 5,
   "id": "3f6830db",
   "metadata": {},
   "outputs": [
    {
     "data": {
      "text/html": [
       "<div>\n",
       "<style scoped>\n",
       "    .dataframe tbody tr th:only-of-type {\n",
       "        vertical-align: middle;\n",
       "    }\n",
       "\n",
       "    .dataframe tbody tr th {\n",
       "        vertical-align: top;\n",
       "    }\n",
       "\n",
       "    .dataframe thead th {\n",
       "        text-align: right;\n",
       "    }\n",
       "</style>\n",
       "<table border=\"1\" class=\"dataframe\">\n",
       "  <thead>\n",
       "    <tr style=\"text-align: right;\">\n",
       "      <th></th>\n",
       "      <th>index</th>\n",
       "      <th>epsilon</th>\n",
       "    </tr>\n",
       "  </thead>\n",
       "  <tbody>\n",
       "    <tr>\n",
       "      <th>0</th>\n",
       "      <td>0</td>\n",
       "      <td>-25.399</td>\n",
       "    </tr>\n",
       "    <tr>\n",
       "      <th>1</th>\n",
       "      <td>1</td>\n",
       "      <td>-25.399</td>\n",
       "    </tr>\n",
       "    <tr>\n",
       "      <th>2</th>\n",
       "      <td>2</td>\n",
       "      <td>-12.640</td>\n",
       "    </tr>\n",
       "    <tr>\n",
       "      <th>3</th>\n",
       "      <td>3</td>\n",
       "      <td>-12.640</td>\n",
       "    </tr>\n",
       "    <tr>\n",
       "      <th>4</th>\n",
       "      <td>4</td>\n",
       "      <td>-9.353</td>\n",
       "    </tr>\n",
       "    <tr>\n",
       "      <th>5</th>\n",
       "      <td>5</td>\n",
       "      <td>-9.353</td>\n",
       "    </tr>\n",
       "    <tr>\n",
       "      <th>6</th>\n",
       "      <td>6</td>\n",
       "      <td>-27.370</td>\n",
       "    </tr>\n",
       "    <tr>\n",
       "      <th>7</th>\n",
       "      <td>7</td>\n",
       "      <td>-27.370</td>\n",
       "    </tr>\n",
       "    <tr>\n",
       "      <th>8</th>\n",
       "      <td>8</td>\n",
       "      <td>-13.513</td>\n",
       "    </tr>\n",
       "    <tr>\n",
       "      <th>9</th>\n",
       "      <td>9</td>\n",
       "      <td>-13.513</td>\n",
       "    </tr>\n",
       "    <tr>\n",
       "      <th>10</th>\n",
       "      <td>10</td>\n",
       "      <td>-11.604</td>\n",
       "    </tr>\n",
       "    <tr>\n",
       "      <th>11</th>\n",
       "      <td>11</td>\n",
       "      <td>-11.604</td>\n",
       "    </tr>\n",
       "  </tbody>\n",
       "</table>\n",
       "</div>"
      ],
      "text/plain": [
       "    index  epsilon\n",
       "0       0  -25.399\n",
       "1       1  -25.399\n",
       "2       2  -12.640\n",
       "3       3  -12.640\n",
       "4       4   -9.353\n",
       "5       5   -9.353\n",
       "6       6  -27.370\n",
       "7       7  -27.370\n",
       "8       8  -13.513\n",
       "9       9  -13.513\n",
       "10     10  -11.604\n",
       "11     11  -11.604"
      ]
     },
     "execution_count": 5,
     "metadata": {},
     "output_type": "execute_result"
    }
   ],
   "source": [
    "import pandas as pd\n",
    "index_list = list(range(0,12,1))\n",
    "\n",
    "# include all 20 orbitals \n",
    "# energy = {\"index\": index_list, \n",
    "#           \"epsilon\":[-25.399,-25.399,-12.640,-12.640,-9.353,-9.353,-2.927,-2.927,-1.822,-1.822,\n",
    "#                     -27.370,-27.370, -13.513,-13.513,-11.604,-11.604,-4.744,-4.744,-2.024, -2.024,]}\n",
    "# only 12 orbitals (since the interaction is upto only orbital 6)\n",
    "energy = {\"index\": index_list, \n",
    "          \"epsilon\":[-25.399,-25.399,-12.640,-12.640,-9.353,-9.353,\n",
    "                    -27.370,-27.370, -13.513,-13.513,-11.604,-11.604,]}\n",
    "\n",
    "obs_onebody_df_source = pd.DataFrame(energy)\n",
    "obs_onebody_df_source"
   ]
  },
  {
   "cell_type": "markdown",
   "id": "c5f62a7c",
   "metadata": {},
   "source": [
    "# Twobody Matrix Terms source"
   ]
  },
  {
   "cell_type": "code",
   "execution_count": 6,
   "id": "3f6d526f",
   "metadata": {
    "scrolled": true
   },
   "outputs": [],
   "source": [
    "## the line being popped, is the line with labels, the list is preprocessed for df construct \n",
    "import re\n",
    "pattern = re.compile(\"isospin\")\n",
    "if pattern.search(text_two[0]) is not None:\n",
    "    text_two.pop(0)\n",
    "\n",
    "pairs = [[1,2],[3,4],[5,6],[7,8],[9,10]]\n",
    "obs_twobody_df_source = pd.DataFrame(columns =[\"q_i1\", \"q_i2\", \"q_f1\", \"q_f2\", \"V_ffii\"])\n",
    "for counter, line in enumerate(text_two): \n",
    "    splitted = line.split()\n",
    "    if int(splitted[0]) == 1:\n",
    "        for x in pairs:\n",
    "            if int(splitted[1]) in x:\n",
    "                init = x\n",
    "            if int(splitted[2]) in x:\n",
    "                fina = x\n",
    "        init = (init[0]-1,init[1]-1) # minus 1 because the index in python starts with 0\n",
    "        fina = (fina[0]-1,fina[1]-1)\n",
    "        V_pair = float(splitted[3])\n",
    "    if int(splitted[0]) ==2:\n",
    "        for x in pairs:\n",
    "            if int(splitted[1]) in x:\n",
    "                init = x\n",
    "            if int(splitted[2]) in x:\n",
    "                fina = x\n",
    "        init = (init[0]+5,init[1]+5) # plus 5 because the index in python starts with 0; and proton'index starts after neutron's\n",
    "        fina = (fina[0]+5,fina[1]+5)\n",
    "        V_pair = float(splitted[3])\n",
    "    V_pair = round(V_pair,6)\n",
    "    obs_twobody_df_source.loc[counter] = [init[0],init[1],fina[0],fina[1],round(V_pair,5)]\n",
    "    obs_twobody_df_source.loc[3*counter] = [fina[0],fina[1],init[0],init[1],round(V_pair,5)]\n",
    "    \n",
    "#     obs_twobody_df_source.loc[6*counter] = [init[1],init[0],fina[0],fina[1],round(V_pair,5)]\n",
    "#     obs_twobody_df_source.loc[9*counter] = [init[1],init[0],fina[1],fina[0],round(V_pair,5)]\n",
    "#     obs_twobody_df_source.loc[12*counter] = [init[0],init[1],fina[1],fina[0],round(V_pair,5)]\n",
    "#     obs_twobody_df_source.loc[15*counter] = [fina[1],fina[0],init[0],init[1],round(V_pair,5)]\n",
    "#     obs_twobody_df_source.loc[18*counter] = [fina[1],fina[0],init[1],init[0],round(V_pair,5)]\n",
    "#     obs_twobody_df_source.loc[21*counter] = [fina[0],fina[1],init[1],init[0],round(V_pair,5)]\n",
    "    del init, fina\n",
    "obs_twobody_df_vqe = obs_twobody_df_source.copy()"
   ]
  },
  {
   "cell_type": "code",
   "execution_count": 7,
   "id": "2c1ddbcf",
   "metadata": {},
   "outputs": [
    {
     "data": {
      "text/html": [
       "<div>\n",
       "<style scoped>\n",
       "    .dataframe tbody tr th:only-of-type {\n",
       "        vertical-align: middle;\n",
       "    }\n",
       "\n",
       "    .dataframe tbody tr th {\n",
       "        vertical-align: top;\n",
       "    }\n",
       "\n",
       "    .dataframe thead th {\n",
       "        text-align: right;\n",
       "    }\n",
       "</style>\n",
       "<table border=\"1\" class=\"dataframe\">\n",
       "  <thead>\n",
       "    <tr style=\"text-align: right;\">\n",
       "      <th></th>\n",
       "      <th>index</th>\n",
       "      <th>q_i1</th>\n",
       "      <th>q_i2</th>\n",
       "      <th>q_f1</th>\n",
       "      <th>q_f2</th>\n",
       "      <th>V_ffii</th>\n",
       "    </tr>\n",
       "  </thead>\n",
       "  <tbody>\n",
       "    <tr>\n",
       "      <th>0</th>\n",
       "      <td>0</td>\n",
       "      <td>0.0</td>\n",
       "      <td>1.0</td>\n",
       "      <td>0.0</td>\n",
       "      <td>1.0</td>\n",
       "      <td>-12.92433</td>\n",
       "    </tr>\n",
       "    <tr>\n",
       "      <th>1</th>\n",
       "      <td>1</td>\n",
       "      <td>0.0</td>\n",
       "      <td>1.0</td>\n",
       "      <td>2.0</td>\n",
       "      <td>3.0</td>\n",
       "      <td>-5.92483</td>\n",
       "    </tr>\n",
       "    <tr>\n",
       "      <th>2</th>\n",
       "      <td>3</td>\n",
       "      <td>2.0</td>\n",
       "      <td>3.0</td>\n",
       "      <td>2.0</td>\n",
       "      <td>3.0</td>\n",
       "      <td>-6.22180</td>\n",
       "    </tr>\n",
       "    <tr>\n",
       "      <th>3</th>\n",
       "      <td>2</td>\n",
       "      <td>0.0</td>\n",
       "      <td>1.0</td>\n",
       "      <td>4.0</td>\n",
       "      <td>5.0</td>\n",
       "      <td>-6.42081</td>\n",
       "    </tr>\n",
       "    <tr>\n",
       "      <th>4</th>\n",
       "      <td>6</td>\n",
       "      <td>6.0</td>\n",
       "      <td>7.0</td>\n",
       "      <td>6.0</td>\n",
       "      <td>7.0</td>\n",
       "      <td>-12.52288</td>\n",
       "    </tr>\n",
       "    <tr>\n",
       "      <th>5</th>\n",
       "      <td>9</td>\n",
       "      <td>8.0</td>\n",
       "      <td>9.0</td>\n",
       "      <td>8.0</td>\n",
       "      <td>9.0</td>\n",
       "      <td>-7.12469</td>\n",
       "    </tr>\n",
       "    <tr>\n",
       "      <th>6</th>\n",
       "      <td>4</td>\n",
       "      <td>2.0</td>\n",
       "      <td>3.0</td>\n",
       "      <td>4.0</td>\n",
       "      <td>5.0</td>\n",
       "      <td>-3.79370</td>\n",
       "    </tr>\n",
       "    <tr>\n",
       "      <th>7</th>\n",
       "      <td>5</td>\n",
       "      <td>4.0</td>\n",
       "      <td>5.0</td>\n",
       "      <td>4.0</td>\n",
       "      <td>5.0</td>\n",
       "      <td>-6.13790</td>\n",
       "    </tr>\n",
       "    <tr>\n",
       "      <th>8</th>\n",
       "      <td>7</td>\n",
       "      <td>6.0</td>\n",
       "      <td>7.0</td>\n",
       "      <td>8.0</td>\n",
       "      <td>9.0</td>\n",
       "      <td>-6.28347</td>\n",
       "    </tr>\n",
       "    <tr>\n",
       "      <th>9</th>\n",
       "      <td>8</td>\n",
       "      <td>6.0</td>\n",
       "      <td>7.0</td>\n",
       "      <td>10.0</td>\n",
       "      <td>11.0</td>\n",
       "      <td>-6.49777</td>\n",
       "    </tr>\n",
       "    <tr>\n",
       "      <th>10</th>\n",
       "      <td>10</td>\n",
       "      <td>8.0</td>\n",
       "      <td>9.0</td>\n",
       "      <td>10.0</td>\n",
       "      <td>11.0</td>\n",
       "      <td>-3.83218</td>\n",
       "    </tr>\n",
       "    <tr>\n",
       "      <th>11</th>\n",
       "      <td>11</td>\n",
       "      <td>10.0</td>\n",
       "      <td>11.0</td>\n",
       "      <td>10.0</td>\n",
       "      <td>11.0</td>\n",
       "      <td>-6.33433</td>\n",
       "    </tr>\n",
       "    <tr>\n",
       "      <th>12</th>\n",
       "      <td>48</td>\n",
       "      <td>4.0</td>\n",
       "      <td>5.0</td>\n",
       "      <td>2.0</td>\n",
       "      <td>3.0</td>\n",
       "      <td>-3.79370</td>\n",
       "    </tr>\n",
       "    <tr>\n",
       "      <th>13</th>\n",
       "      <td>57</td>\n",
       "      <td>8.0</td>\n",
       "      <td>9.0</td>\n",
       "      <td>6.0</td>\n",
       "      <td>7.0</td>\n",
       "      <td>-6.28347</td>\n",
       "    </tr>\n",
       "    <tr>\n",
       "      <th>14</th>\n",
       "      <td>60</td>\n",
       "      <td>10.0</td>\n",
       "      <td>11.0</td>\n",
       "      <td>6.0</td>\n",
       "      <td>7.0</td>\n",
       "      <td>-6.49777</td>\n",
       "    </tr>\n",
       "    <tr>\n",
       "      <th>15</th>\n",
       "      <td>66</td>\n",
       "      <td>10.0</td>\n",
       "      <td>11.0</td>\n",
       "      <td>8.0</td>\n",
       "      <td>9.0</td>\n",
       "      <td>-3.83218</td>\n",
       "    </tr>\n",
       "    <tr>\n",
       "      <th>16</th>\n",
       "      <td>75</td>\n",
       "      <td>2.0</td>\n",
       "      <td>3.0</td>\n",
       "      <td>0.0</td>\n",
       "      <td>1.0</td>\n",
       "      <td>-5.92483</td>\n",
       "    </tr>\n",
       "    <tr>\n",
       "      <th>17</th>\n",
       "      <td>78</td>\n",
       "      <td>4.0</td>\n",
       "      <td>5.0</td>\n",
       "      <td>0.0</td>\n",
       "      <td>1.0</td>\n",
       "      <td>-6.42081</td>\n",
       "    </tr>\n",
       "  </tbody>\n",
       "</table>\n",
       "</div>"
      ],
      "text/plain": [
       "    index  q_i1  q_i2  q_f1  q_f2    V_ffii\n",
       "0       0   0.0   1.0   0.0   1.0 -12.92433\n",
       "1       1   0.0   1.0   2.0   3.0  -5.92483\n",
       "2       3   2.0   3.0   2.0   3.0  -6.22180\n",
       "3       2   0.0   1.0   4.0   5.0  -6.42081\n",
       "4       6   6.0   7.0   6.0   7.0 -12.52288\n",
       "5       9   8.0   9.0   8.0   9.0  -7.12469\n",
       "6       4   2.0   3.0   4.0   5.0  -3.79370\n",
       "7       5   4.0   5.0   4.0   5.0  -6.13790\n",
       "8       7   6.0   7.0   8.0   9.0  -6.28347\n",
       "9       8   6.0   7.0  10.0  11.0  -6.49777\n",
       "10     10   8.0   9.0  10.0  11.0  -3.83218\n",
       "11     11  10.0  11.0  10.0  11.0  -6.33433\n",
       "12     48   4.0   5.0   2.0   3.0  -3.79370\n",
       "13     57   8.0   9.0   6.0   7.0  -6.28347\n",
       "14     60  10.0  11.0   6.0   7.0  -6.49777\n",
       "15     66  10.0  11.0   8.0   9.0  -3.83218\n",
       "16     75   2.0   3.0   0.0   1.0  -5.92483\n",
       "17     78   4.0   5.0   0.0   1.0  -6.42081"
      ]
     },
     "execution_count": 7,
     "metadata": {},
     "output_type": "execute_result"
    }
   ],
   "source": [
    "obs_twobody_df_vqe.drop_duplicates(inplace=True)\n",
    "obs_twobody_df_vqe = obs_twobody_df_vqe.drop_duplicates().reset_index()\n",
    "obs_twobody_df_vqe"
   ]
  },
  {
   "cell_type": "code",
   "execution_count": 8,
   "id": "3c04cc2a",
   "metadata": {},
   "outputs": [],
   "source": [
    "# ## To generate twobody terms that elimiated the first 2 two hartree fock states \n",
    "# ## (basically consider a helium core, and dont allow the lowest pair to participate the pariing interaction)\n",
    "\n",
    "# for index, row in obs_twobody_df_vqe.iterrows():\n",
    "#     if (row['q_i1'] == 0) or (row['q_f1'] == 0) or (row['q_i1'] == 6) or (row['q_f1'] == 6):\n",
    "#         obs_twobody_df_vqe.drop(index,inplace=True)\n",
    "\n",
    "# obs_twobody_df_vqe"
   ]
  },
  {
   "cell_type": "markdown",
   "id": "db2fc4b0",
   "metadata": {},
   "source": [
    "# Filter out unwanted interactions from obs_twobody_df\n",
    "# Create obs_twobody_H_input_df_output (input for VQE)"
   ]
  },
  {
   "cell_type": "code",
   "execution_count": 9,
   "id": "45acf6d4",
   "metadata": {},
   "outputs": [
    {
     "ename": "PermissionError",
     "evalue": "[Errno 13] Permission denied: '210_Be9/210_Be9-2B_H_input.csv'",
     "output_type": "error",
     "traceback": [
      "\u001b[1;31m---------------------------------------------------------------------------\u001b[0m",
      "\u001b[1;31mPermissionError\u001b[0m                           Traceback (most recent call last)",
      "\u001b[1;32m~\\AppData\\Local\\Temp/ipykernel_8696/3795336515.py\u001b[0m in \u001b[0;36m<module>\u001b[1;34m\u001b[0m\n\u001b[0;32m      2\u001b[0m \u001b[0mobs_twobody_df_vqe\u001b[0m \u001b[1;33m=\u001b[0m \u001b[0mobs_twobody_df_vqe\u001b[0m\u001b[1;33m.\u001b[0m\u001b[0mreset_index\u001b[0m\u001b[1;33m(\u001b[0m\u001b[1;33m)\u001b[0m\u001b[1;33m\u001b[0m\u001b[1;33m\u001b[0m\u001b[0m\n\u001b[0;32m      3\u001b[0m \u001b[0mobs_twobody_df_vqe\u001b[0m \u001b[1;33m=\u001b[0m \u001b[0mobs_twobody_df_vqe\u001b[0m\u001b[1;33m[\u001b[0m\u001b[1;33m[\u001b[0m\u001b[1;34m\"q_i1\"\u001b[0m\u001b[1;33m,\u001b[0m\u001b[1;34m\"q_i2\"\u001b[0m\u001b[1;33m,\u001b[0m\u001b[1;34m\"q_f1\"\u001b[0m\u001b[1;33m,\u001b[0m\u001b[1;34m\"q_f2\"\u001b[0m\u001b[1;33m,\u001b[0m\u001b[1;34m\"V_ffii\"\u001b[0m\u001b[1;33m]\u001b[0m\u001b[1;33m]\u001b[0m\u001b[1;33m\u001b[0m\u001b[1;33m\u001b[0m\u001b[0m\n\u001b[1;32m----> 4\u001b[1;33m \u001b[0mobs_twobody_df_vqe\u001b[0m\u001b[1;33m.\u001b[0m\u001b[0mto_csv\u001b[0m\u001b[1;33m(\u001b[0m\u001b[0mobs_twobody_csv\u001b[0m\u001b[1;33m)\u001b[0m\u001b[1;33m\u001b[0m\u001b[1;33m\u001b[0m\u001b[0m\n\u001b[0m\u001b[0;32m      5\u001b[0m \u001b[0mobs_twobody_df_vqe\u001b[0m\u001b[1;33m\u001b[0m\u001b[1;33m\u001b[0m\u001b[0m\n",
      "\u001b[1;32m~\\Anaconda3\\envs\\QisNuke\\lib\\site-packages\\pandas\\core\\generic.py\u001b[0m in \u001b[0;36mto_csv\u001b[1;34m(self, path_or_buf, sep, na_rep, float_format, columns, header, index, index_label, mode, encoding, compression, quoting, quotechar, line_terminator, chunksize, date_format, doublequote, escapechar, decimal, errors, storage_options)\u001b[0m\n\u001b[0;32m   3480\u001b[0m             \u001b[0mdoublequote\u001b[0m\u001b[1;33m=\u001b[0m\u001b[0mdoublequote\u001b[0m\u001b[1;33m,\u001b[0m\u001b[1;33m\u001b[0m\u001b[1;33m\u001b[0m\u001b[0m\n\u001b[0;32m   3481\u001b[0m             \u001b[0mescapechar\u001b[0m\u001b[1;33m=\u001b[0m\u001b[0mescapechar\u001b[0m\u001b[1;33m,\u001b[0m\u001b[1;33m\u001b[0m\u001b[1;33m\u001b[0m\u001b[0m\n\u001b[1;32m-> 3482\u001b[1;33m             \u001b[0mstorage_options\u001b[0m\u001b[1;33m=\u001b[0m\u001b[0mstorage_options\u001b[0m\u001b[1;33m,\u001b[0m\u001b[1;33m\u001b[0m\u001b[1;33m\u001b[0m\u001b[0m\n\u001b[0m\u001b[0;32m   3483\u001b[0m         )\n\u001b[0;32m   3484\u001b[0m \u001b[1;33m\u001b[0m\u001b[0m\n",
      "\u001b[1;32m~\\Anaconda3\\envs\\QisNuke\\lib\\site-packages\\pandas\\io\\formats\\format.py\u001b[0m in \u001b[0;36mto_csv\u001b[1;34m(self, path_or_buf, encoding, sep, columns, index_label, mode, compression, quoting, quotechar, line_terminator, chunksize, date_format, doublequote, escapechar, errors, storage_options)\u001b[0m\n\u001b[0;32m   1103\u001b[0m             \u001b[0mformatter\u001b[0m\u001b[1;33m=\u001b[0m\u001b[0mself\u001b[0m\u001b[1;33m.\u001b[0m\u001b[0mfmt\u001b[0m\u001b[1;33m,\u001b[0m\u001b[1;33m\u001b[0m\u001b[1;33m\u001b[0m\u001b[0m\n\u001b[0;32m   1104\u001b[0m         )\n\u001b[1;32m-> 1105\u001b[1;33m         \u001b[0mcsv_formatter\u001b[0m\u001b[1;33m.\u001b[0m\u001b[0msave\u001b[0m\u001b[1;33m(\u001b[0m\u001b[1;33m)\u001b[0m\u001b[1;33m\u001b[0m\u001b[1;33m\u001b[0m\u001b[0m\n\u001b[0m\u001b[0;32m   1106\u001b[0m \u001b[1;33m\u001b[0m\u001b[0m\n\u001b[0;32m   1107\u001b[0m         \u001b[1;32mif\u001b[0m \u001b[0mcreated_buffer\u001b[0m\u001b[1;33m:\u001b[0m\u001b[1;33m\u001b[0m\u001b[1;33m\u001b[0m\u001b[0m\n",
      "\u001b[1;32m~\\Anaconda3\\envs\\QisNuke\\lib\\site-packages\\pandas\\io\\formats\\csvs.py\u001b[0m in \u001b[0;36msave\u001b[1;34m(self)\u001b[0m\n\u001b[0;32m    241\u001b[0m             \u001b[0merrors\u001b[0m\u001b[1;33m=\u001b[0m\u001b[0mself\u001b[0m\u001b[1;33m.\u001b[0m\u001b[0merrors\u001b[0m\u001b[1;33m,\u001b[0m\u001b[1;33m\u001b[0m\u001b[1;33m\u001b[0m\u001b[0m\n\u001b[0;32m    242\u001b[0m             \u001b[0mcompression\u001b[0m\u001b[1;33m=\u001b[0m\u001b[0mself\u001b[0m\u001b[1;33m.\u001b[0m\u001b[0mcompression\u001b[0m\u001b[1;33m,\u001b[0m\u001b[1;33m\u001b[0m\u001b[1;33m\u001b[0m\u001b[0m\n\u001b[1;32m--> 243\u001b[1;33m             \u001b[0mstorage_options\u001b[0m\u001b[1;33m=\u001b[0m\u001b[0mself\u001b[0m\u001b[1;33m.\u001b[0m\u001b[0mstorage_options\u001b[0m\u001b[1;33m,\u001b[0m\u001b[1;33m\u001b[0m\u001b[1;33m\u001b[0m\u001b[0m\n\u001b[0m\u001b[0;32m    244\u001b[0m         ) as handles:\n\u001b[0;32m    245\u001b[0m \u001b[1;33m\u001b[0m\u001b[0m\n",
      "\u001b[1;32m~\\Anaconda3\\envs\\QisNuke\\lib\\site-packages\\pandas\\io\\common.py\u001b[0m in \u001b[0;36mget_handle\u001b[1;34m(path_or_buf, mode, encoding, compression, memory_map, is_text, errors, storage_options)\u001b[0m\n\u001b[0;32m    705\u001b[0m                 \u001b[0mencoding\u001b[0m\u001b[1;33m=\u001b[0m\u001b[0mioargs\u001b[0m\u001b[1;33m.\u001b[0m\u001b[0mencoding\u001b[0m\u001b[1;33m,\u001b[0m\u001b[1;33m\u001b[0m\u001b[1;33m\u001b[0m\u001b[0m\n\u001b[0;32m    706\u001b[0m                 \u001b[0merrors\u001b[0m\u001b[1;33m=\u001b[0m\u001b[0merrors\u001b[0m\u001b[1;33m,\u001b[0m\u001b[1;33m\u001b[0m\u001b[1;33m\u001b[0m\u001b[0m\n\u001b[1;32m--> 707\u001b[1;33m                 \u001b[0mnewline\u001b[0m\u001b[1;33m=\u001b[0m\u001b[1;34m\"\"\u001b[0m\u001b[1;33m,\u001b[0m\u001b[1;33m\u001b[0m\u001b[1;33m\u001b[0m\u001b[0m\n\u001b[0m\u001b[0;32m    708\u001b[0m             )\n\u001b[0;32m    709\u001b[0m         \u001b[1;32melse\u001b[0m\u001b[1;33m:\u001b[0m\u001b[1;33m\u001b[0m\u001b[1;33m\u001b[0m\u001b[0m\n",
      "\u001b[1;31mPermissionError\u001b[0m: [Errno 13] Permission denied: '210_Be9/210_Be9-2B_H_input.csv'"
     ]
    }
   ],
   "source": [
    "obs_twobody_df_vqe=obs_twobody_df_vqe.sort_values([\"q_i1\",\"q_f1\"])\n",
    "obs_twobody_df_vqe = obs_twobody_df_vqe.reset_index()\n",
    "obs_twobody_df_vqe = obs_twobody_df_vqe[[\"q_i1\",\"q_i2\",\"q_f1\",\"q_f2\",\"V_ffii\"]]\n",
    "obs_twobody_df_vqe.to_csv(obs_twobody_csv)\n",
    "obs_twobody_df_vqe"
   ]
  },
  {
   "cell_type": "markdown",
   "id": "d87a5be7",
   "metadata": {},
   "source": [
    "# Create obs_onebody_df_vqe (input for VQE)"
   ]
  },
  {
   "cell_type": "code",
   "execution_count": null,
   "id": "e23d072d",
   "metadata": {},
   "outputs": [],
   "source": [
    "obs_onebody_df_source"
   ]
  },
  {
   "cell_type": "code",
   "execution_count": null,
   "id": "c76db3af",
   "metadata": {},
   "outputs": [],
   "source": [
    "# fermin = (-10.853 + (-4.162))/2\n",
    "# fermip = (-15.475 + (-15.459))/2\n",
    "\n",
    "### Below consider energy differences between levels\n",
    "obs_onebody_df_vqe = pd.DataFrame(columns =['q_i','q_f','epsilon'])\n",
    "\n",
    "### init_fina_list\n",
    "epsilon_list = obs_onebody_df_source.loc[:,\"epsilon\"]\n",
    "import math\n",
    "for counter, i in enumerate(epsilon_list):\n",
    "    epsilon = i\n",
    "#     if counter < num_orbitals[0]:\n",
    "#         epsilon = math.sqrt((i - (fermin))**2)\n",
    "#     if counter >= num_orbitals[0]:\n",
    "#         epsilon = math.sqrt((i - (fermip))**2)\n",
    "    obs_onebody_df_vqe.loc[counter] = [counter,counter, round(epsilon,6)]\n",
    "\n",
    "obs_onebody_df_vqe.to_csv(obs_onebody_csv)\n",
    "obs_onebody_df_vqe"
   ]
  },
  {
   "cell_type": "code",
   "execution_count": null,
   "id": "a22c2aa8",
   "metadata": {
    "scrolled": true
   },
   "outputs": [],
   "source": [
    "# %store promotion_list\n",
    "# %store num_orbitals\n",
    "# %store num_particles\n",
    "# %store num_spin_orbitals\n",
    "# %store obs_onebody_df_vqe\n",
    "# %store obs_twobody_df\n",
    "# %store abs_main\n",
    "# %store pathfilename\n",
    "# %store nucleus_name"
   ]
  },
  {
   "cell_type": "code",
   "execution_count": 13,
   "id": "7a0ae882",
   "metadata": {},
   "outputs": [
    {
     "data": {
      "text/plain": [
       "'C:\\\\Users\\\\chwee\\\\OneDrive\\\\UTM Directories\\\\QISKIT and codes\\\\Workplace\\\\VQE_pair\\\\Data'"
      ]
     },
     "execution_count": 13,
     "metadata": {},
     "output_type": "execute_result"
    }
   ],
   "source": [
    "obs_twobody_df = pd.read_csv(\"210_Be9/210_Be9-2B_H_input.csv\")"
   ]
  },
  {
   "cell_type": "code",
   "execution_count": 16,
   "id": "4837886e",
   "metadata": {
    "scrolled": true
   },
   "outputs": [
    {
     "data": {
      "text/plain": [
       "9"
      ]
     },
     "execution_count": 16,
     "metadata": {},
     "output_type": "execute_result"
    }
   ],
   "source": [
    "obs_twobody_df = obs_twobody_df_vqe\n",
    "from qiskit_nature.second_q.operators import FermionicOp\n",
    "import pandas as pd\n",
    "tmp_ham = {}\n",
    "two_factor = -0.5\n",
    "### Two body Terms: Pairing interaction\n",
    "for index, row in obs_twobody_df.iterrows():\n",
    "    init_1 = int(row['q_i1']); init_2 = int(row['q_i2']);\n",
    "    fina_1 = int(row['q_f1']); fina_2 = int(row['q_f2']);\n",
    "    the_twostring = \"+_\" +str(fina_1) + \" \" + \"+_\" +str(fina_2) + \" \" + \"-_\" +str(init_1) + \" \" + \"-_\" +str(init_2)\n",
    "    tmp_ham[the_twostring] = two_factor*row['V_ffii']\n",
    "len(tmp_ham)"
   ]
  },
  {
   "cell_type": "code",
   "execution_count": 17,
   "id": "8dc3d680",
   "metadata": {},
   "outputs": [],
   "source": [
    "Hamiltonian = FermionicOp(tmp_ham, \n",
    "                          num_spin_orbitals=num_spin_orbitals, \n",
    "                          copy=False)\n"
   ]
  },
  {
   "cell_type": "code",
   "execution_count": 18,
   "id": "84b49249",
   "metadata": {},
   "outputs": [
    {
     "name": "stdout",
     "output_type": "stream",
     "text": [
      "Fermionic Operator\n",
      "number spin orbitals=12, number terms=9\n",
      "  6.462165 * ( +_0 +_1 -_0 -_1 )\n",
      "+ 3.1109 * ( +_2 +_3 -_2 -_3 )\n",
      "+ 6.26144 * ( +_6 +_7 -_6 -_7 )\n",
      "+ 3.248885 * ( +_10 +_11 -_6 -_7 )\n",
      "+ 3.562345 * ( +_8 +_9 -_8 -_9 )\n",
      "+ 1.91609 * ( +_10 +_11 -_8 -_9 )\n",
      "+ 3.248885 * ( +_6 +_7 -_10 -_11 )\n",
      "+ 1.91609 * ( +_8 +_9 -_10 -_11 )\n",
      "+ 3.167165 * ( +_10 +_11 -_10 -_11 )\n"
     ]
    }
   ],
   "source": [
    "print(Hamiltonian)"
   ]
  },
  {
   "cell_type": "code",
   "execution_count": 19,
   "id": "5015a50c",
   "metadata": {},
   "outputs": [
    {
     "data": {
      "text/plain": [
       "True"
      ]
     },
     "execution_count": 19,
     "metadata": {},
     "output_type": "execute_result"
    }
   ],
   "source": [
    "Hamiltonian.is_hermitian()"
   ]
  },
  {
   "cell_type": "code",
   "execution_count": null,
   "id": "c5c0aec9",
   "metadata": {},
   "outputs": [],
   "source": []
  },
  {
   "cell_type": "code",
   "execution_count": null,
   "id": "0edeb583",
   "metadata": {},
   "outputs": [],
   "source": []
  }
 ],
 "metadata": {
  "kernelspec": {
   "display_name": "Python 3 (ipykernel)",
   "language": "python",
   "name": "python3"
  },
  "language_info": {
   "codemirror_mode": {
    "name": "ipython",
    "version": 3
   },
   "file_extension": ".py",
   "mimetype": "text/x-python",
   "name": "python",
   "nbconvert_exporter": "python",
   "pygments_lexer": "ipython3",
   "version": "3.7.11"
  }
 },
 "nbformat": 4,
 "nbformat_minor": 5
}
