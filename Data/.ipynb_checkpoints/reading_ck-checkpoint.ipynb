{
 "cells": [
  {
   "cell_type": "markdown",
   "id": "91dc683f",
   "metadata": {},
   "source": [
    "An IPYNB created to read the cohen kurath interaction\n",
    "the code is not fully developed and not yet used."
   ]
  },
  {
   "cell_type": "code",
   "execution_count": 10,
   "id": "385b87ee",
   "metadata": {},
   "outputs": [],
   "source": [
    "from utils import *\n",
    "\n",
    "data_ID = \"691_Be8\"\n",
    "num_orbitals = (6,6) \n",
    "num_neut_orb = num_orbitals[0]\n",
    "\n",
    "### The following doesnt require setting up, unless file naming is different\n",
    "obs_onebody_csv = data_ID+\"/\"+data_ID+\"-1B_H_input.csv\"\n",
    "obs_twobody_csv = data_ID+\"/\"+data_ID+\"-2B_H_input.csv\"\n",
    "parameter_py = data_ID+\"/\"+\"parameter.txt\""
   ]
  },
  {
   "cell_type": "code",
   "execution_count": 2,
   "id": "7ecd28d4",
   "metadata": {},
   "outputs": [],
   "source": [
    "source = \"source\\CK\\CK_be8.txt\"\n",
    "text_source = []\n",
    "with open(source, 'rt') as myfile:    #filename\n",
    "    for line in myfile:\n",
    "        line = line.rstrip('\\n')\n",
    "        text_source.append(line)\n",
    "text = text_source[17:]"
   ]
  },
  {
   "cell_type": "code",
   "execution_count": 194,
   "id": "35c76a96",
   "metadata": {},
   "outputs": [],
   "source": [
    "ckint = {}\n",
    "for i in text: \n",
    "    spted = i.split()\n",
    "    ckint[int(spted[0]),int(spted[1]),int(spted[2]),int(spted[3]),int(spted[4])] = float(spted[5])"
   ]
  },
  {
   "cell_type": "code",
   "execution_count": 196,
   "id": "5a436493",
   "metadata": {},
   "outputs": [],
   "source": [
    "label = {0:(1,1,1/2,-1/2,-1/2),\n",
    " 1:(1,1,1/2,+1/2,-1/2),\n",
    " 2:(2,2,3/2,-3/2,-1/2),\n",
    " 3:(2,2,3/2,-1/2,-1/2),\n",
    " 4:(2,2,3/2, 1/2,-1/2),\n",
    " 5:(2,2,3/2, 3/2,-1/2),\n",
    " 6:(3,3,1/2,-1/2, 1/2),\n",
    " 7:(3,3,1/2,+1/2, 1/2),\n",
    " 8:(4,4,3/2,-3/2, 1/2),\n",
    " 9:(4,4,3/2,-1/2, 1/2),\n",
    " 10:(4,4,3/2, 1/2, 1/2),\n",
    " 11:(4,4,3/2, 3/2, 1/2)}"
   ]
  },
  {
   "cell_type": "code",
   "execution_count": null,
   "id": "7eae1e54",
   "metadata": {},
   "outputs": [],
   "source": [
    "import pandas as pd\n",
    "obs_twobody_df = pd.DataFrame(columns =[\"q_i1\", \"q_i2\", \"q_f1\", \"q_f2\", \"V_ffii\"])\n",
    "counter = 0\n",
    "for fina1 in label:\n",
    "    for fina2 in label:\n",
    "        for init1 in label:\n",
    "            for init2 in label:\n",
    "                init1 = label[init1]\n",
    "                init2 = label[init2]\n",
    "                fina1 = label[fina1]\n",
    "                fina2 = label[fina2]\n",
    "                cklabel = (fina1[0],fina2[0],init1[0],init2[0])\n",
    "                if cklabel is not in ckint: \n",
    "                    continue\n",
    "                bigJ = \n",
    "                obs_twobody_df.loc[counter] = [init[0],init[1],fina[0],fina[1],V_pair]\n",
    "\n",
    "    \n",
    "\n",
    "for counter, i in enumerate(text):\n",
    "    split = i.split()\n",
    "    fina = (int(split[0]),int(split[1]));\n",
    "    init =  (int(split[2]),int(split[3]))\n",
    "    V_pair = round(float(split[-1]) , 5 )\n"
   ]
  },
  {
   "cell_type": "code",
   "execution_count": null,
   "id": "d08fd7d3",
   "metadata": {},
   "outputs": [],
   "source": []
  },
  {
   "cell_type": "code",
   "execution_count": 13,
   "id": "2a57e1d3",
   "metadata": {},
   "outputs": [
    {
     "data": {
      "text/plain": [
       "[(0, 1), (2, 3), (4, 5), (6, 7), (8, 9), (10, 11)]"
      ]
     },
     "execution_count": 13,
     "metadata": {},
     "output_type": "execute_result"
    }
   ],
   "source": [
    "pairlist = list(set(degenerate_pair_gen(num_orbitals)) & set(sin_bod_if_list_gen(num_orbitals)))\n",
    "pairlist_reversed = []\n",
    "# for i in pairlist:\n",
    "#     pairlist_reversed.append((i[1],i[0]))\n",
    "# pairlist += pairlist_reversed ; pairlist.sort()\n",
    "pairlist.sort()\n",
    "pairlist"
   ]
  },
  {
   "cell_type": "code",
   "execution_count": 99,
   "id": "ccbb6df6",
   "metadata": {},
   "outputs": [],
   "source": [
    "def project_z(j: int) -> list:\n",
    "    \"Input of j quantum number and project it on z-axis; Output the list of z projection\"\n",
    "    jlis = []\n",
    "    for i in range(int(j*2+1)):\n",
    "        jlis.append(j)\n",
    "        j -= 1\n",
    "    return jlis"
   ]
  },
  {
   "cell_type": "code",
   "execution_count": 190,
   "id": "ad05d88c",
   "metadata": {},
   "outputs": [
    {
     "data": {
      "text/plain": [
       "{(0.5, 0.5, 0.5, -0.5): (0.0, -0.0)}"
      ]
     },
     "execution_count": 190,
     "metadata": {},
     "output_type": "execute_result"
    }
   ],
   "source": [
    "## considering M-scheme coupling\n",
    "## T = 1 channel; identical nucleon coupling same abs(tz)\n",
    "jdum1 = 1/2; jdum2 = 1/2\n",
    "j1 = max(jdum1,jdum2); j2 = min(jdum1,jdum2)\n",
    "\n",
    "proj1 = project_z(j1)\n",
    "proj2 = project_z(j2)\n",
    "\n",
    "if j1 > j2:\n",
    "    bigJ , bigJ_dec= int(j1 + j2), 1 \n",
    "elif j1 == j2:\n",
    "    bigJ , bigJ_dec= int(j1 + j2 -1), 2\n",
    "    \n",
    "jdic = {}\n",
    " \n",
    "for i in range(len(proj1)):\n",
    "    a = i + 1 if j1 == j2 else 0\n",
    "    j1z = proj1[i]\n",
    "    Mlis = [] ; bigM = 0\n",
    "    while (a < len(proj2) and j1z > j2z):\n",
    "        j2z = proj2[a]\n",
    "        bigM = j2z + j1z; Mlis.append(bigM)\n",
    "        bigJ = max(Mlis) if j1 == j2 else j1 + j2\n",
    "        \n",
    "        if (j1,j2,j1z,j2z) in jdic:\n",
    "            pass\n",
    "        elif j1 == j2 and bigM >= 0:\n",
    "            jdic[(j1,j2,j1z,j2z)] = (bigJ,bigM)\n",
    "            if -j2z > -j1z:\n",
    "                jdic[(j1,j2,-j2z,-j1z)] = (bigJ,-1*bigM)\n",
    "#         elif j1 > j2: # unsolved\n",
    "#             jdic[(j1,j2,j1z,j2z)] = (bigJ,bigM)\n",
    "#             jdic[(j1,j2,j1z,-j2z)] = (bigJ,bigM)\n",
    "        a += 1\n",
    "jdic\n",
    "# while bigJ >= 0:\n",
    "#     Mlis = project_z(bigJ);\n",
    "#     for i in range(len(Mlis)):\n",
    "#         for j1z in proj1:\n",
    "#             for j2z in proj2:\n",
    "#                 if (bigJ,Mlis[i]) in jdic.values():  continue\n",
    "#                 if (j1z + j2z == Mlis[i] and j1z > j2z) or (j1 != j2 and j1z + j2z == Mlis[i]):\n",
    "                    \n",
    "#                     jdic[(j1,j2,j1z,j2z)] = (bigJ,Mlis[i])\n",
    "#                     print((j1,j2,j1z,j2z),bigJ,Mlis[i])\n",
    "#                     break\n",
    "#     bigJ -= bigJ_dec\n",
    "# jdic"
   ]
  },
  {
   "cell_type": "code",
   "execution_count": 133,
   "id": "9b960ac8",
   "metadata": {},
   "outputs": [
    {
     "data": {
      "text/plain": [
       "[2, 1, 0, -1, -2]"
      ]
     },
     "execution_count": 133,
     "metadata": {},
     "output_type": "execute_result"
    }
   ],
   "source": [
    "Mlis = project_z(2);\n",
    "Mlis"
   ]
  },
  {
   "cell_type": "code",
   "execution_count": 96,
   "id": "725bb0c2",
   "metadata": {},
   "outputs": [
    {
     "data": {
      "text/plain": [
       "{(1.5, 1.5, 1.5, 0.5): (2.0, 2.0),\n",
       " (1.5, 1.5, 1.5, -0.5): (2.0, 1.0),\n",
       " (1.5, 1.5, 1.5, -1.5): (2.0, 0.0),\n",
       " (1.5, 1.5, 0.5, -0.5): (0.0, 0.0)}"
      ]
     },
     "execution_count": 96,
     "metadata": {},
     "output_type": "execute_result"
    }
   ],
   "source": [
    "## considering M-scheme coupling\n",
    "## T = 1 channel; identical nucleon coupling\n",
    "j1 = 3/2; j2 = 3/2\n",
    "\n",
    "\n",
    "\n",
    "jdic = {}\n",
    "\n",
    "## assuming j1 >= j2\n",
    "bigM = 0\n",
    "for i in range(len(proj1)): \n",
    "    a = i+1 if j1 == j2 else 0\n",
    "    if len(proj2) <= a:\n",
    "        break\n",
    "        \n",
    "    j1z = proj1[i]; j2z = proj2[a]\n",
    "    bigJ = j2z + j1z; \n",
    "    \n",
    "    while a < len(proj2):\n",
    "        j2z = proj2[a]\n",
    "        bigM = j2z + j1z;\n",
    "        a += 1;\n",
    "        jdic[(j1,j2,j1z,j2z)] = (bigJ,bigM)\n",
    "#         if bigM < 0: \n",
    "#             continue\n",
    "#         else:\n",
    "            \n",
    "\n",
    "jdic\n"
   ]
  },
  {
   "cell_type": "code",
   "execution_count": 20,
   "id": "0d4add85",
   "metadata": {},
   "outputs": [
    {
     "data": {
      "text/plain": [
       "20736"
      ]
     },
     "execution_count": 20,
     "metadata": {},
     "output_type": "execute_result"
    }
   ],
   "source": [
    "len(lis)"
   ]
  },
  {
   "cell_type": "code",
   "execution_count": 5,
   "id": "c7004b02",
   "metadata": {},
   "outputs": [
    {
     "data": {
      "text/plain": [
       "['   1   1   1   1     0      0.24400',\n",
       " '   1   1   2   2     0     -5.05260',\n",
       " '   1   2   1   2     1      0.73440',\n",
       " '   1   2   1   2     2     -1.14430',\n",
       " '   1   2   2   2     2      1.74230',\n",
       " '   2   2   2   2     0     -3.32870',\n",
       " '   2   2   2   2     2      0.08780',\n",
       " '   3   3   3   3     0      0.24400',\n",
       " '   3   3   4   4     0     -5.05260',\n",
       " '   3   4   3   4     1      0.73440',\n",
       " '   3   4   3   4     2     -1.14430',\n",
       " '   3   4   4   4     2      1.74230',\n",
       " '   4   4   4   4     0     -3.32870',\n",
       " '   4   4   4   4     2      0.08780',\n",
       " '   1   3   1   3     0      0.24400',\n",
       " '   1   3   1   3     1     -4.29215',\n",
       " '   1   3   1   4     1     -0.85185',\n",
       " '   1   3   2   3     1      0.85185',\n",
       " '   1   3   2   4     0     -5.05260',\n",
       " '   1   3   2   4     1      1.76980',\n",
       " '   1   4   1   4     1     -2.91415',\n",
       " '   2   3   1   4     1      3.64855',\n",
       " '   2   3   2   3     1     -2.91415',\n",
       " '   1   4   1   4     2     -2.60110',\n",
       " '   2   3   1   4     2     -1.45680',\n",
       " '   2   3   2   3     2     -2.60110',\n",
       " '   1   4   2   4     1     -2.26670',\n",
       " '   2   3   2   4     1      2.26670',\n",
       " '   1   4   2   4     2      1.23199',\n",
       " '   2   3   2   4     2     -1.23199',\n",
       " '   2   4   2   4     0     -3.32870',\n",
       " '   2   4   2   4     1     -3.43620',\n",
       " '   2   4   2   4     2      0.08780',\n",
       " '   2   4   2   4     3     -7.26680']"
      ]
     },
     "execution_count": 5,
     "metadata": {},
     "output_type": "execute_result"
    }
   ],
   "source": [
    "text"
   ]
  },
  {
   "cell_type": "code",
   "execution_count": 6,
   "id": "11ed5337",
   "metadata": {},
   "outputs": [],
   "source": [
    "# obs_twobody_df.to_csv(obs_twobody_csv)"
   ]
  }
 ],
 "metadata": {
  "kernelspec": {
   "display_name": "Python 3 (ipykernel)",
   "language": "python",
   "name": "python3"
  },
  "language_info": {
   "codemirror_mode": {
    "name": "ipython",
    "version": 3
   },
   "file_extension": ".py",
   "mimetype": "text/x-python",
   "name": "python",
   "nbconvert_exporter": "python",
   "pygments_lexer": "ipython3",
   "version": "3.7.11"
  }
 },
 "nbformat": 4,
 "nbformat_minor": 5
}
