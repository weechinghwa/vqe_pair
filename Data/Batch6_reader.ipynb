{
 "cells": [
  {
   "cell_type": "code",
   "execution_count": null,
   "id": "ffa8e6f2",
   "metadata": {},
   "outputs": [],
   "source": [
    "from utils import *\n",
    "data_ID = \"60a6_He_Be8\"\n",
    "num_orbitals = (8,8) # Consider helium core, deduct \n",
    "num_neut_orb = num_orbitals[0]\n",
    "\n",
    "### The following doesnt require setting up, unless file naming is different\n",
    "obs_onebody_csv = data_ID+\"/\"+data_ID+\"-1B_H_input.csv\"\n",
    "obs_twobody_csv = data_ID+\"/\"+data_ID+\"-2B_H_input.csv\"\n",
    "parameter_py = data_ID+\"/\"+\"parameter.txt\""
   ]
  },
  {
   "cell_type": "markdown",
   "id": "fccc6bb3",
   "metadata": {},
   "source": [
    "# Onebody terms"
   ]
  },
  {
   "cell_type": "code",
   "execution_count": null,
   "id": "db80507c",
   "metadata": {},
   "outputs": [],
   "source": [
    "source = \"source\\Be8_600\\Vpair_800MeV_Be8_include_all_2b_transitions_one.txt\"\n",
    "text_one = []\n",
    "with open(source, 'rt') as myfile:    #filename\n",
    "# with open(\"source/Be8_SIII_new/Vpair_Vdelta_800.txt\", 'rt') as myfile:    #filename\n",
    "    for line in myfile:\n",
    "        line = line.rstrip('\\n')\n",
    "        text_one.append(line)\n",
    "text_one = text_one[1:]"
   ]
  },
  {
   "cell_type": "code",
   "execution_count": null,
   "id": "6da8fe46",
   "metadata": {},
   "outputs": [],
   "source": [
    "obs_onebody_df = pd.DataFrame(columns =['q_i','q_f','epsilon'])\n",
    "prot_start = 6\n",
    "for counter, i in enumerate(text_one):\n",
    "    split = i.split()\n",
    "    fina = int(split[0])-1 if split[1]==\"1\" else int(split[0])-1+num_neut_orb\n",
    "    init = int(split[3])-1 if split[4]==\"1\" else int(split[3])-1+num_neut_orb\n",
    "    if fina in [0,1,8,9]: continue\n",
    "        \n",
    "    epsilon = round(float(split[-1]) * float(split[-2]) , 5 )\n",
    "    if fina != init :\n",
    "        continue\n",
    "    elif 2 <= init < 8:\n",
    "        obs_onebody_df.loc[counter] = [init-2, fina-2, epsilon]\n",
    "    elif 8 <= init:\n",
    "        obs_onebody_df.loc[counter] = [init-4, fina-4, epsilon]\n"
   ]
  },
  {
   "cell_type": "code",
   "execution_count": null,
   "id": "66d9b2c7",
   "metadata": {},
   "outputs": [],
   "source": []
  },
  {
   "cell_type": "code",
   "execution_count": null,
   "id": "52eeffaa",
   "metadata": {},
   "outputs": [],
   "source": [
    "obs_onebody_df=obs_onebody_df.sort_values([\"q_i\"])\n",
    "obs_onebody_df = obs_onebody_df.reset_index()\n",
    "obs_onebody_df = obs_onebody_df[[\"q_i\",\"q_f\",\"epsilon\"]]\n",
    "obs_onebody_df"
   ]
  },
  {
   "cell_type": "markdown",
   "id": "8da64487",
   "metadata": {},
   "source": [
    "# Twobody terms"
   ]
  },
  {
   "cell_type": "code",
   "execution_count": null,
   "id": "4bc4084e",
   "metadata": {},
   "outputs": [],
   "source": [
    "text_two = []\n",
    "with open(\"source\\Be8_600\\Vpair_800MeV_Be8_include_all_2b_transitions_two.txt\", 'rt') as myfile:    #filename\n",
    "# with open(\"source/Be8_SIII_new/Vpair_Vdelta_800.txt\", 'rt') as myfile:    #filename\n",
    "    for line in myfile:\n",
    "        line = line.rstrip('\\n')\n",
    "        text_two.append(line)"
   ]
  },
  {
   "cell_type": "code",
   "execution_count": null,
   "id": "1bda5d9f",
   "metadata": {},
   "outputs": [],
   "source": [
    "line_num = identify_line(text_two, 'V0 \\(1\\)', \"V0 \\(2\\)\")\n",
    "text_two_neut = text_two[line_num[0]+2: line_num[1]]\n",
    "text_two_prot = text_two[line_num[1]+1:]"
   ]
  },
  {
   "cell_type": "code",
   "execution_count": null,
   "id": "9064e810",
   "metadata": {},
   "outputs": [],
   "source": [
    "pairlist = list(set(degenerate_pair_gen(num_orbitals)) & set(sin_bod_if_list_gen(num_orbitals)))\n",
    "pairlist_reversed = []\n",
    "for i in pairlist:\n",
    "    pairlist_reversed.append((i[1],i[0]))\n",
    "pairlist += pairlist_reversed ; pairlist.sort()\n",
    "pairlist"
   ]
  },
  {
   "cell_type": "code",
   "execution_count": null,
   "id": "2b3a7822",
   "metadata": {},
   "outputs": [],
   "source": [
    "# to process all possible values (60a6_He_Be8) Stetcu style ( cosider an inert helium core)\n",
    "obs_twobody_df = pd.DataFrame(columns =[\"q_i1\", \"q_i2\", \"q_f1\", \"q_f2\", \"V_ffii\"])\n",
    "neut_start = 0\n",
    "prot_start = 6\n",
    "# taking the first two as init and the last 2 as final.\n",
    "count = 0\n",
    "for counter, i in enumerate(text_two_neut):\n",
    "    split = i.split()\n",
    "    fina = (int(split[0])-1 -2,int(split[2])-1 -2);\n",
    "    init = (int(split[4])-1 -2,int(split[6])-1 -2)\n",
    "    if ((abs(float(split[-1])) < 0.0001) \n",
    "        or fina[0]<neut_start or fina[1]<neut_start \n",
    "        or init[0]<neut_start or init[1]<neut_start):\n",
    "        count +=1 \n",
    "        pass\n",
    "    else:\n",
    "        V_pair = round(float(split[-1]) , 5 )\n",
    "        obs_twobody_df.loc[counter] = [init[0],init[1],fina[0],fina[1],V_pair]\n",
    "\n",
    "dum_len = len(obs_twobody_df)\n",
    "\n",
    "for counter, i in enumerate(text_two_prot):\n",
    "    split = i.split()\n",
    "    fina = (int(split[0])-1+prot_start-2,int(split[2])-1+prot_start-2);\n",
    "    init = (int(split[4])-1+prot_start-2,int(split[6])-1+prot_start-2) #  -1 because start from 0, plus prot_start because proton comes after neutron's\n",
    "    if ((abs(float(split[-1])) <0.0001)\n",
    "        or fina[0]<prot_start or fina[1]<prot_start \n",
    "        or init[0]<prot_start or init[1]<prot_start):\n",
    "        count +=1 \n",
    "        pass\n",
    "    else:\n",
    "        V_pair = round(float(split[-1]) , 5 )\n",
    "        obs_twobody_df.loc[counter+dum_len] = [init[0],init[1],fina[0],fina[1],V_pair]\n"
   ]
  },
  {
   "cell_type": "code",
   "execution_count": null,
   "id": "6b168119",
   "metadata": {
    "scrolled": true
   },
   "outputs": [],
   "source": [
    "pd.set_option('display.max_rows', None)\n",
    "\n",
    "obs_twobody_df=obs_twobody_df.sort_values([\"q_f1\",\"q_i1\"])\n",
    "obs_twobody_df = obs_twobody_df.reset_index()\n",
    "obs_twobody_df = obs_twobody_df[[\"q_i1\",\"q_i2\",\"q_f1\",\"q_f2\",\"V_ffii\"]]\n",
    "obs_twobody_df"
   ]
  },
  {
   "cell_type": "code",
   "execution_count": null,
   "id": "3b23ec3c",
   "metadata": {},
   "outputs": [],
   "source": [
    "obs_onebody_df.to_csv(obs_onebody_csv)\n",
    "obs_twobody_df.to_csv(obs_twobody_csv)"
   ]
  },
  {
   "cell_type": "code",
   "execution_count": null,
   "id": "b8c2b900",
   "metadata": {},
   "outputs": [],
   "source": [
    "# To process onebody for (60c1 and 60a1)\n",
    "# obs_onebody_df = pd.DataFrame(columns =['q_i','q_f','epsilon'])\n",
    "\n",
    "# for counter, i in enumerate(text_one):\n",
    "#     split = i.split()\n",
    "#     fina = int(split[0])-1 if split[1]==\"1\" else int(split[0])-1+num_neut_orb\n",
    "#     init = int(split[3])-1 if split[4]==\"1\" else int(split[3])-1+num_neut_orb\n",
    "#     epsilon = round(float(split[-1]) * float(split[-2]) , 5 )\n",
    "# #     if epsilon in obs_onebody_df[\"epsilon\"].tolist():\n",
    "# #         continue\n",
    "#     obs_onebody_df.loc[counter] = [init, fina, epsilon]"
   ]
  },
  {
   "cell_type": "code",
   "execution_count": null,
   "id": "d39a644f",
   "metadata": {
    "scrolled": true
   },
   "outputs": [],
   "source": [
    "# ## to process only negative values ( 60c1)\n",
    "# obs_twobody_df = pd.DataFrame(columns =[\"q_i1\", \"q_i2\", \"q_f1\", \"q_f2\", \"V_ffii\"])\n",
    "\n",
    "# # taking the first two as init and the last 2 as final.\n",
    "\n",
    "# for counter, i in enumerate(text_two_neut):\n",
    "#     split = i.split()\n",
    "#     fina = (int(split[0])-1,int(split[2])-1); \n",
    "#     init =  (int(split[4])-1,int(split[6])-1)\n",
    "#     V_pair = round(float(split[-1]) , 5 )\n",
    "#     if ((fina[0] < fina[1]) and (init[0] > init[1])):\n",
    "#         obs_twobody_df.loc[counter] = [init[0],init[1],fina[0],fina[1],V_pair]\n",
    "#     else:\n",
    "#         continue\n",
    "\n",
    "# dum_len = len(obs_twobody_df)\n",
    "\n",
    "# for counter, i in enumerate(text_two_prot):\n",
    "#     split = i.split()\n",
    "#     fina = (int(split[0])-1+num_neut_orb,int(split[2])-1+num_neut_orb);\n",
    "#     init =  (int(split[4])-1+num_neut_orb,int(split[6])-1+num_neut_orb) #  -1 because start from 0, plus num_neut_orb because proton comes after neutron's\n",
    "#     V_pair = round(float(split[-1]) , 5 ) \n",
    "#     if ((fina[0] < fina[1]) and (init[0] > init[1])):\n",
    "#         obs_twobody_df.loc[counter+dum_len] = [init[0],init[1],fina[0],fina[1],V_pair]\n",
    "#     else:\n",
    "#         continue\n",
    "\n",
    "# # to process all possible values (60a1)\n",
    "# obs_twobody_df = pd.DataFrame(columns =[\"q_i1\", \"q_i2\", \"q_f1\", \"q_f2\", \"V_ffii\"])\n",
    "\n",
    "# # taking the first two as init and the last 2 as final.\n",
    "# count = 0\n",
    "# for counter, i in enumerate(text_two_neut):\n",
    "#     split = i.split()\n",
    "#     fina = (int(split[0])-1,int(split[2])-1); \n",
    "#     init =  (int(split[4])-1,int(split[6])-1)\n",
    "#     if (abs(float(split[-1])) < 0.0001) or (fina not in pairlist) or (init not in pairlist):\n",
    "#         count +=1 \n",
    "#         pass\n",
    "#     else:\n",
    "#         V_pair = round(float(split[-1]) , 5 )\n",
    "#         obs_twobody_df.loc[counter] = [init[0],init[1],fina[0],fina[1],V_pair]\n",
    "\n",
    "# dum_len = len(obs_twobody_df)\n",
    "\n",
    "# for counter, i in enumerate(text_two_prot):\n",
    "#     split = i.split()\n",
    "#     fina = (int(split[0])-1+num_neut_orb,int(split[2])-1+num_neut_orb);\n",
    "#     init =  (int(split[4])-1+num_neut_orb,int(split[6])-1+num_neut_orb) #  -1 because start from 0, plus num_neut_orb because proton comes after neutron's\n",
    "#     if (abs(float(split[-1])) <0.0001) or (fina not in pairlist) or (init not in pairlist):\n",
    "#         count +=1 \n",
    "#         pass\n",
    "#     else:\n",
    "#         V_pair = round(float(split[-1]) , 5 )\n",
    "#         obs_twobody_df.loc[counter+dum_len] = [init[0],init[1],fina[0],fina[1],V_pair]\n"
   ]
  }
 ],
 "metadata": {
  "kernelspec": {
   "display_name": "Python 3 (ipykernel)",
   "language": "python",
   "name": "python3"
  },
  "language_info": {
   "codemirror_mode": {
    "name": "ipython",
    "version": 3
   },
   "file_extension": ".py",
   "mimetype": "text/x-python",
   "name": "python",
   "nbconvert_exporter": "python",
   "pygments_lexer": "ipython3",
   "version": "3.7.11"
  }
 },
 "nbformat": 4,
 "nbformat_minor": 5
}
