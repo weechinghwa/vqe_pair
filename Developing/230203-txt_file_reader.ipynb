{
 "cells": [
  {
   "cell_type": "code",
   "execution_count": 1,
   "id": "782b7efc",
   "metadata": {},
   "outputs": [],
   "source": [
    "## Extracting portions of txt files ref : https://www.computerhope.com/issues/ch001721.htm\n",
    "## Config\n",
    "input_txt = r'result_Be10-copy.txt'"
   ]
  },
  {
   "cell_type": "code",
   "execution_count": 14,
   "id": "973dd6e1",
   "metadata": {
    "scrolled": true
   },
   "outputs": [],
   "source": [
    "## Package used\n",
    "import os\n",
    "from pathlib import Path\n",
    "import re\n",
    "import pandas as pd\n",
    "\n",
    "### Functions used\n",
    "def remove_fermi(energy_list):\n",
    "    pattern_fermi = re.compile(\"Fermi\")\n",
    "    for line in energy_list:\n",
    "        if pattern_fermi.search(line) != None:\n",
    "            energy_list.remove(line)\n",
    "    return energy_list\n",
    "\n",
    "def identify_line(text_file:'str',pattern_start:'str', pattern_end:'str')->tuple:\n",
    "    pat_start = re.compile(pattern_start)\n",
    "    pat_end = re.compile(pattern_end)\n",
    "    line_start_counter = []\n",
    "    line_end_counter = []\n",
    "    \n",
    "    for counter, line in enumerate(text_whole):\n",
    "        if pat_start.search(line) != None:\n",
    "            line_start_counter.append(counter)\n",
    "        else:\n",
    "            pass\n",
    "        if pat_end.search(line):\n",
    "            line_end_counter.append(counter)\n",
    "        else:\n",
    "            pass\n",
    "    output_line_counter = line_start_counter + line_end_counter\n",
    "#     if len(output_line_counter) >= 3:\n",
    "#         print('repeated patterns found for: ', pattern_end, ' and ', pattern_start)\n",
    "#     else:\n",
    "#         pass\n",
    "    return output_line_counter"
   ]
  },
  {
   "cell_type": "code",
   "execution_count": 3,
   "id": "abe38460",
   "metadata": {},
   "outputs": [],
   "source": [
    "## setting up the path \n",
    "main_dir_path = Path(os.getcwd())\n",
    "assess = str(main_dir_path); assess = (assess.split(\"\\\\\")); assess.reverse()\n",
    "while assess[0] != \"VQE_pair\":\n",
    "    main_dir_path = main_dir_path.parent\n",
    "    assess = str(main_dir_path); assess = (assess.split(\"\\\\\")); assess.reverse()\n",
    "os.chdir(main_dir_path)\n",
    "input_txt = os.path.join(main_dir_path, 'Data', input_txt)\n",
    "\n",
    "### Using a dictionary to store the file names to be used\n",
    "filenames = {}\n",
    "#### Input\n",
    "filenames[\"input_file\"] = input_txt   ## source data file name must be in /Data/source_data.txt\n",
    "filenames[\"input_file_split\"] = re.split('-|_|\\\\.', filenames[\"input_file\"])\n",
    "nucleus_name = filenames[\"input_file_split\"][2]\n",
    "# #### Output\n",
    "filenames[\"output_1B_source_csv\"] =  os.path.join(main_dir_path,\"Data\",nucleus_name+\"-1B-source.csv\")\n",
    "filenames[\"output_2B_source_csv\"] =  os.path.join(main_dir_path,\"Data\",nucleus_name+\"-2B-source.csv\")\n",
    "filenames[\"config_output_py\"] = os.path.join(main_dir_path,\"Data\",nucleus_name+\"_num_config.py\")"
   ]
  },
  {
   "cell_type": "code",
   "execution_count": 4,
   "id": "3f6d526f",
   "metadata": {
    "scrolled": true
   },
   "outputs": [],
   "source": [
    "## Reading the txt file and convert to a list object\n",
    "text_whole = []\n",
    "with open (filenames[\"input_file\"], 'rt') as myfile:    \n",
    "    for line in myfile:\n",
    "        line = line.rstrip('\\n')\n",
    "        text_whole.append(line)\n",
    "\n",
    "## Extract 2body matrix elements information\n",
    "extracted_2body = []\n",
    "pattern_hf = re.compile(\"HF INDEX AND ISOSPIN\")\n",
    "for line in text_whole:\n",
    "    if pattern_hf.search(line) != None:      # If a match is found\n",
    "        extracted_2body.append((line.rstrip('\\n')).lstrip('HF INDEX AND ISOSPIN'))\n",
    "### Store the information extracted into a dataframe; and output them as csv for later viewing/assessment\n",
    "obs_twobody_df = pd.DataFrame(columns = [\"i1\",\"isoi1\",\"i2\",\"isoi2\",\"f1\",\"isof1\",\"f2\",\"isof2\",\"V\"])\n",
    "obs_twobody_df\n",
    "\n",
    "for counter, extracted_2body_row in enumerate(extracted_2body):\n",
    "    appending_row = []\n",
    "    split_string_list = extracted_2body_row.split(\" \")\n",
    "    for split in split_string_list:\n",
    "        if split ==\"\":\n",
    "            pass\n",
    "        else:\n",
    "            appending_row.append(float(split))\n",
    "    obs_twobody_df.loc[counter] = appending_row\n",
    "obs_twobody_df.to_csv(filenames[\"output_2B_source_csv\"])"
   ]
  },
  {
   "cell_type": "code",
   "execution_count": 13,
   "id": "09ada263",
   "metadata": {
    "scrolled": true
   },
   "outputs": [
    {
     "ename": "NameError",
     "evalue": "name 'blockPrint' is not defined",
     "output_type": "error",
     "traceback": [
      "\u001b[1;31m---------------------------------------------------------------------------\u001b[0m",
      "\u001b[1;31mNameError\u001b[0m                                 Traceback (most recent call last)",
      "\u001b[1;32m~\\AppData\\Local\\Temp/ipykernel_11468/240639398.py\u001b[0m in \u001b[0;36m<module>\u001b[1;34m\u001b[0m\n\u001b[0;32m      9\u001b[0m \u001b[0mpattern_energy_start\u001b[0m \u001b[1;33m=\u001b[0m \u001b[1;34m\"-------------------- Lower bound for Pairing Valence Space -------------------------\"\u001b[0m\u001b[1;33m\u001b[0m\u001b[1;33m\u001b[0m\u001b[0m\n\u001b[0;32m     10\u001b[0m \u001b[0mpattern_energy_end\u001b[0m   \u001b[1;33m=\u001b[0m \u001b[1;34m\"-------------------- Upper bound for Pairing Valence Space -------------------------\"\u001b[0m\u001b[1;33m\u001b[0m\u001b[1;33m\u001b[0m\u001b[0m\n\u001b[1;32m---> 11\u001b[1;33m \u001b[0mblockPrint\u001b[0m\u001b[1;33m(\u001b[0m\u001b[1;33m)\u001b[0m\u001b[1;33m\u001b[0m\u001b[1;33m\u001b[0m\u001b[0m\n\u001b[0m\u001b[0;32m     12\u001b[0m \u001b[0menergy_block_id\u001b[0m \u001b[1;33m=\u001b[0m \u001b[0midentify_line\u001b[0m\u001b[1;33m(\u001b[0m\u001b[0mtext_whole\u001b[0m\u001b[1;33m,\u001b[0m \u001b[0mpattern_energy_start\u001b[0m\u001b[1;33m,\u001b[0m\u001b[0mpattern_energy_end\u001b[0m\u001b[1;33m)\u001b[0m\u001b[1;33m;\u001b[0m\u001b[1;33m\u001b[0m\u001b[1;33m\u001b[0m\u001b[0m\n\u001b[0;32m     13\u001b[0m \u001b[0menablePrint\u001b[0m\u001b[1;33m(\u001b[0m\u001b[1;33m)\u001b[0m\u001b[1;33m\u001b[0m\u001b[1;33m\u001b[0m\u001b[0m\n",
      "\u001b[1;31mNameError\u001b[0m: name 'blockPrint' is not defined"
     ]
    }
   ],
   "source": [
    "## Extraction of num_particles data; Create a new class of object called num_orbitals\n",
    "## Below the number of particles and orbitals all refer to the valence\"s\n",
    "## Valence!! VALENCE!!\n",
    "pattern_num_particles = re.compile(\"isospin label Omega pi   energy  occupation partner_n partner_p\")\n",
    "num_particles = [None,None]\n",
    "num_nucleon_orbitals = [None,None]\n",
    "\n",
    "## Extract particles number information\n",
    "pattern_energy_start = \"-------------------- Lower bound for Pairing Valence Space -------------------------\"\n",
    "pattern_energy_end   = \"-------------------- Upper bound for Pairing Valence Space -------------------------\"\n",
    "energy_block_id = identify_line(text_whole, pattern_energy_start,pattern_energy_end);\n",
    "energy_block_id.sort()\n",
    "\n",
    "energy_neut_list = text_whole[energy_block_id[0]+1: energy_block_id[1]]\n",
    "energy_prot_list = text_whole[energy_block_id[2]+1: energy_block_id[3]]\n",
    "energy_neut_list = remove_fermi(energy_neut_list)\n",
    "energy_prot_list = remove_fermi(energy_prot_list)\n",
    "\n",
    "num_neut_list = []; num_prot_list = []\n",
    "for line in energy_neut_list:\n",
    "    num_neut_list.append(int(line[53:55]))\n",
    "for line in energy_prot_list:\n",
    "    num_prot_list.append(int(line[53:54]))\n",
    "\n",
    "num_particles[0] = num_neut = sum(num_neut_list); num_particles[1] = num_prot = sum(num_prot_list)\n",
    "num_particles = tuple(num_particles)\n",
    "\n",
    "num_neut_orbitals = energy_block_id[1] - energy_block_id[0]; num_prot_orbitals = energy_block_id[3] - energy_block_id[2]\n",
    "\n",
    "num_nucleon_orbitals[0] = num_neut_orbitals; num_nucleon_orbitals[1] = num_prot_orbitals\n",
    "num_nucleon_orbitals = tuple(num_nucleon_orbitals)\n",
    "\n",
    "num_spin_orbitals = sum(num_nucleon_orbitals)"
   ]
  },
  {
   "cell_type": "markdown",
   "id": "843e6e56",
   "metadata": {},
   "source": [
    "## onebody matrix informations terms"
   ]
  },
  {
   "cell_type": "code",
   "execution_count": 6,
   "id": "b282ef54",
   "metadata": {},
   "outputs": [],
   "source": [
    "# Extract onebody information\n",
    "## Store the onebody terms into panda dataframes and export as csv\n",
    "obs_onebody_df = pd.DataFrame(columns = [\"hf_lvl\",\"iso\", \"epsilon\"])\n",
    "\n",
    "for counter, line in enumerate(energy_neut_list+energy_prot_list):\n",
    "    dummy_append = []\n",
    "    dummy_df_row = []\n",
    "    split_string_list = line.split(\"   \")\n",
    "    for split in split_string_list:\n",
    "        if split ==\"\":\n",
    "            pass\n",
    "        else:\n",
    "            if (\"(\" in split) or (\")\" in split): ## The data contain brackets that is not useful\n",
    "                pass\n",
    "            else:\n",
    "                dummy_append.append(float(split))\n",
    "    dummy_df_row = [dummy_append[1],dummy_append[4],dummy_append[2]]\n",
    "    obs_onebody_df.loc[counter] = dummy_df_row\n",
    "\n",
    "obs_onebody_df.to_csv(filenames['output_1B_source_csv'])"
   ]
  },
  {
   "cell_type": "code",
   "execution_count": 11,
   "id": "0a08c85f",
   "metadata": {},
   "outputs": [],
   "source": [
    "## config particles and orbitals number\n",
    "with open(filenames['config_output_py'],'w') as myfile:\n",
    "    myfile.write(\"num_particles = \"+ str(num_particles))\n",
    "    myfile.write(\"\\nnum_nucleon_orbitals = \"+ str(num_nucleon_orbitals))\n",
    "    myfile.write(\"\\nnum_spin_orbitals = \"+ str(num_spin_orbitals))"
   ]
  },
  {
   "cell_type": "code",
   "execution_count": null,
   "id": "2ea14761",
   "metadata": {},
   "outputs": [],
   "source": [
    "## to improve next time: \n",
    "## connect the gap between this to producing proper matrix elements that is fed directly into the VQE algorithm."
   ]
  },
  {
   "cell_type": "code",
   "execution_count": null,
   "id": "ac9d13f0",
   "metadata": {},
   "outputs": [],
   "source": [
    "obs_twobody_df\n",
    "obs_onebody_df"
   ]
  }
 ],
 "metadata": {
  "kernelspec": {
   "display_name": "Python 3 (ipykernel)",
   "language": "python",
   "name": "python3"
  },
  "language_info": {
   "codemirror_mode": {
    "name": "ipython",
    "version": 3
   },
   "file_extension": ".py",
   "mimetype": "text/x-python",
   "name": "python",
   "nbconvert_exporter": "python",
   "pygments_lexer": "ipython3",
   "version": "3.7.11"
  }
 },
 "nbformat": 4,
 "nbformat_minor": 5
}
