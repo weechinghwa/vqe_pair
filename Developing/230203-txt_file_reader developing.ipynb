{
 "cells": [
  {
   "cell_type": "code",
   "execution_count": 4,
   "id": "782b7efc",
   "metadata": {},
   "outputs": [],
   "source": [
    "import re"
   ]
  },
  {
   "cell_type": "code",
   "execution_count": 14,
   "id": "5a992a14",
   "metadata": {},
   "outputs": [],
   "source": [
    "## Reading the txt file\n",
    "## ref : https://www.computerhope.com/issues/ch001721.htm\n",
    "\n",
    "## Config\n",
    "input_txt = 'result_Be10-copy.txt'\n",
    "\n",
    "filenames = {}\n",
    "filenames[\"input_file\"] = input_txt   ## source data file name must be in /Data/source_data.txt\n",
    "filenames[\"input_file_split\"] = re.split('-|_|\\\\.', filenames[\"input_file\"])\n",
    "nucleus_name = filenames[\"input_file_split\"][1]\n",
    "filenames[\"output_csv\"] = nucleus_name+\"-source.csv\""
   ]
  },
  {
   "cell_type": "code",
   "execution_count": 15,
   "id": "3f6d526f",
   "metadata": {},
   "outputs": [],
   "source": [
    "extracted_data = []\n",
    "pattern_hf = re.compile(\"HF INDEX AND ISOSPIN\")\n",
    "\n",
    "with open (filenames[\"input_file\"], 'rt') as myfile:    \n",
    "    for line in myfile:\n",
    "        if pattern_hf.search(line) != None:      # If a match is found\n",
    "            extracted_data.append((line.rstrip('\\n')).lstrip('HF INDEX AND ISOSPIN'))"
   ]
  },
  {
   "cell_type": "code",
   "execution_count": 16,
   "id": "09ada263",
   "metadata": {},
   "outputs": [],
   "source": [
    "import pandas as pd\n",
    "obs_twobody_df = pd.DataFrame(columns = [\"i1\",\"isoi1\",\"i2\",\"isoi2\",\"f1\",\"isof1\",\"f2\",\"isof2\",\"V\"])\n",
    "obs_twobody_df\n",
    "\n",
    "for counter, extracted_row in enumerate(extracted_data):\n",
    "    appending_row = []\n",
    "    split_string_list = extracted_row.split(\" \")\n",
    "    for split in split_string_list:\n",
    "        if split ==\"\":\n",
    "            pass\n",
    "        else:\n",
    "            appending_row.append(float(split))\n",
    "    obs_twobody_df.loc[counter] = appending_row\n",
    "obs_twobody_df.to_csv(filenames[\"output_csv\"])"
   ]
  },
  {
   "cell_type": "markdown",
   "id": "843e6e56",
   "metadata": {},
   "source": [
    "## onebody terms"
   ]
  },
  {
   "cell_type": "code",
   "execution_count": 18,
   "id": "95f367f1",
   "metadata": {},
   "outputs": [],
   "source": [
    "def remove_fermi(energy_list):\n",
    "    pattern_fermi = re.compile(\"Fermi\")\n",
    "    for line in energy_list:\n",
    "        if pattern_fermi.search(line) != None:\n",
    "            energy_list.remove(line)\n",
    "    return energy_list"
   ]
  },
  {
   "cell_type": "code",
   "execution_count": 24,
   "id": "9e993ddb",
   "metadata": {},
   "outputs": [
    {
     "name": "stdout",
     "output_type": "stream",
     "text": [
      "[1011, 1027, 1043] [1054, 1070, 1078]\n"
     ]
    }
   ],
   "source": [
    "## Extract information for 1body energy level\n",
    "extracted_data_1b1 = []\n",
    "pattern_n_block = re.compile(\"Features for neutrons:\")\n",
    "pattern_p_block = re.compile(\"Features for protons:\")\n",
    "pattern_energy_start = re.compile(\"-------------------- Lower bound for Pairing Valence Space -------------------------\")\n",
    "pattern_energy_end   = re.compile(\"-------------------- Upper bound for Pairing Valence Space -------------------------\")\n",
    "linenum = 0\n",
    "n_identifier = [] # 1st is neutron block start; 2nd is lowerbound; 3rd is upperbound. Same for proton\n",
    "p_identifier = []\n",
    "\n",
    "## the code below assumes neutron's data will come first, then proton's\n",
    "## also assume the pattern keywords to look for the line are as shown above.\n",
    "\n",
    "text_whole = []\n",
    "with open (filenames[\"input_file\"], 'rt') as myfile:\n",
    "    for line in myfile:\n",
    "        linenum += 1\n",
    "        text_whole.append(line)\n",
    "        ## neutron\n",
    "        if pattern_n_block.search(line) != None:\n",
    "            n_identifier.append(linenum)\n",
    "        if pattern_energy_start.search(line) != None:\n",
    "            if len(n_identifier) >= 2:\n",
    "                pass\n",
    "            else:\n",
    "                n_identifier.append(linenum)\n",
    "        if pattern_energy_end.search(line) != None:\n",
    "            if len(n_identifier) >= 3:\n",
    "                pass\n",
    "            else:\n",
    "                n_identifier.append(linenum)\n",
    "\n",
    "        ## proton\n",
    "        if pattern_p_block.search(line) != None:\n",
    "            p_identifier.append(linenum)\n",
    "        if linenum in n_identifier:\n",
    "            pass\n",
    "        else:\n",
    "            if pattern_energy_start.search(line) != None:\n",
    "                p_identifier.append(linenum)\n",
    "            if pattern_energy_end.search(line) != None:\n",
    "                p_identifier.append(linenum)\n",
    "\n",
    "print(n_identifier,p_identifier)"
   ]
  },
  {
   "cell_type": "code",
   "execution_count": 26,
   "id": "b282ef54",
   "metadata": {},
   "outputs": [
    {
     "data": {
      "text/html": [
       "<div>\n",
       "<style scoped>\n",
       "    .dataframe tbody tr th:only-of-type {\n",
       "        vertical-align: middle;\n",
       "    }\n",
       "\n",
       "    .dataframe tbody tr th {\n",
       "        vertical-align: top;\n",
       "    }\n",
       "\n",
       "    .dataframe thead th {\n",
       "        text-align: right;\n",
       "    }\n",
       "</style>\n",
       "<table border=\"1\" class=\"dataframe\">\n",
       "  <thead>\n",
       "    <tr style=\"text-align: right;\">\n",
       "      <th></th>\n",
       "      <th>lvl</th>\n",
       "      <th>epsilon</th>\n",
       "    </tr>\n",
       "  </thead>\n",
       "  <tbody>\n",
       "    <tr>\n",
       "      <th>0</th>\n",
       "      <td>3.0</td>\n",
       "      <td>-16.052186</td>\n",
       "    </tr>\n",
       "    <tr>\n",
       "      <th>1</th>\n",
       "      <td>4.0</td>\n",
       "      <td>-16.052186</td>\n",
       "    </tr>\n",
       "    <tr>\n",
       "      <th>2</th>\n",
       "      <td>5.0</td>\n",
       "      <td>-15.614439</td>\n",
       "    </tr>\n",
       "    <tr>\n",
       "      <th>3</th>\n",
       "      <td>6.0</td>\n",
       "      <td>-15.614439</td>\n",
       "    </tr>\n",
       "    <tr>\n",
       "      <th>4</th>\n",
       "      <td>7.0</td>\n",
       "      <td>-8.278158</td>\n",
       "    </tr>\n",
       "    <tr>\n",
       "      <th>5</th>\n",
       "      <td>8.0</td>\n",
       "      <td>-8.278158</td>\n",
       "    </tr>\n",
       "  </tbody>\n",
       "</table>\n",
       "</div>"
      ],
      "text/plain": [
       "   lvl    epsilon\n",
       "0  3.0 -16.052186\n",
       "1  4.0 -16.052186\n",
       "2  5.0 -15.614439\n",
       "3  6.0 -15.614439\n",
       "4  7.0  -8.278158\n",
       "5  8.0  -8.278158"
      ]
     },
     "execution_count": 26,
     "metadata": {},
     "output_type": "execute_result"
    }
   ],
   "source": [
    "energy_neu = text_whole[n_identifier[1] : n_identifier[2] -1 : 1]\n",
    "energy_pro = text_whole[p_identifier[1] : p_identifier[2] -1 : 1]\n",
    "\n",
    "energy_neu = remove_fermi(energy_neu)\n",
    "energy_pro = remove_fermi(energy_pro)\n",
    "\n",
    "obs_onebody_df = pd.DataFrame(columns = [\"hf_lvl\",\"iso\", \"epsilon\"])\n",
    "\n",
    "for counter, line in enumerate(energy_neu):\n",
    "    dummy_append = []\n",
    "    dummy_df_row = []\n",
    "    split_string_list = line.split(\"  \")\n",
    "    for split in split_string_list:\n",
    "        if split ==\"\":\n",
    "            pass\n",
    "        else:\n",
    "            if (\"(\" in split) or (\")\" in split):\n",
    "                pass\n",
    "            else:\n",
    "                dummy_append.append(float(split))\n",
    "    dummy_df_row = [dummy_append[0],dummy_append[2]]\n",
    "    obs_onebody_df.loc[counter] = dummy_df_row\n",
    "\n",
    "for counter, line in enumerate(energy_pro):\n",
    "    dummy_append = []\n",
    "    dummy_df_row = []\n",
    "    split_string_list = line.split(\"  \")\n",
    "    for split in split_string_list:\n",
    "        if split ==\"\":\n",
    "            pass\n",
    "        else:\n",
    "            if (\"(\" in split) or (\")\" in split):\n",
    "                pass\n",
    "            else:\n",
    "                dummy_append.append(float(split))\n",
    "    dummy_df_row = [dummy_append[0],dummy_append[2]]\n",
    "    obs_onebody_df.loc[counter] = dummy_df_row\n",
    "\n",
    "obs_onebody_df"
   ]
  },
  {
   "cell_type": "code",
   "execution_count": 64,
   "id": "0a08c85f",
   "metadata": {},
   "outputs": [
    {
     "name": "stdout",
     "output_type": "stream",
     "text": [
      "987\n"
     ]
    }
   ],
   "source": []
  },
  {
   "cell_type": "code",
   "execution_count": 93,
   "id": "2ea14761",
   "metadata": {},
   "outputs": [],
   "source": [
    "## to improve next time: \n",
    "## connect the gap between this to producing proper matrix elements that is fed directly into the VQE algorithm."
   ]
  },
  {
   "cell_type": "code",
   "execution_count": null,
   "id": "ac9d13f0",
   "metadata": {},
   "outputs": [],
   "source": []
  }
 ],
 "metadata": {
  "kernelspec": {
   "display_name": "Python 3 (ipykernel)",
   "language": "python",
   "name": "python3"
  },
  "language_info": {
   "codemirror_mode": {
    "name": "ipython",
    "version": 3
   },
   "file_extension": ".py",
   "mimetype": "text/x-python",
   "name": "python",
   "nbconvert_exporter": "python",
   "pygments_lexer": "ipython3",
   "version": "3.7.11"
  }
 },
 "nbformat": 4,
 "nbformat_minor": 5
}
