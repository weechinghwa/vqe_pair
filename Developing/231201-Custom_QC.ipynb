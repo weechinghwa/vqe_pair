{
 "cells": [
  {
   "cell_type": "code",
   "execution_count": 16,
   "metadata": {},
   "outputs": [],
   "source": [
    "import json\n",
    "\n",
    "backend_filepath = \"hwabackend\\\\props_hwabackend.json\"\n",
    "with open(backend_filepath, \"r\") as file: \n",
    "    data = json.load(file)\n",
    "for i in data[\"qubits\"]:\n",
    "    i[0][\"value\"] = 5000\n",
    "    i[1][\"value\"] = 5000\n",
    "    "
   ]
  },
  {
   "cell_type": "code",
   "execution_count": 17,
   "metadata": {},
   "outputs": [],
   "source": [
    "newdata = json.dumps(data, indent=4)\n",
    "with open(backend_filepath, \"w\") as file: \n",
    "    file.write(newdata)\n",
    "\n",
    "    "
   ]
  }
 ],
 "metadata": {
  "kernelspec": {
   "display_name": "QisNuke44",
   "language": "python",
   "name": "python3"
  },
  "language_info": {
   "codemirror_mode": {
    "name": "ipython",
    "version": 3
   },
   "file_extension": ".py",
   "mimetype": "text/x-python",
   "name": "python",
   "nbconvert_exporter": "python",
   "pygments_lexer": "ipython3",
   "version": "3.7.0"
  },
  "orig_nbformat": 4
 },
 "nbformat": 4,
 "nbformat_minor": 2
}
