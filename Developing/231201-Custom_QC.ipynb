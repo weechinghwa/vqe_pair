{
 "cells": [
  {
   "cell_type": "markdown",
   "metadata": {},
   "source": [
    "# Important notes\n",
    "Only change the following properties: \n",
    "\n",
    "- T1T2 time \n",
    "- Gate Error\n",
    "- Readout Error\n",
    "- Probality measurment --- Meas0Prep1 and Meas1Prep0"
   ]
  },
  {
   "cell_type": "code",
   "execution_count": null,
   "metadata": {},
   "outputs": [],
   "source": [
    "import json\n",
    "\n",
    "backend_filepath = \"fake_johor-Fresh\\\\props_fakejohor.json\"\n",
    "# updatedbackend_filepath = \"../Compute/FakeBackends/fake_johor/props_fakejohor.json\"\n",
    "\n",
    "with open(backend_filepath, \"r\") as file: \n",
    "    data = json.load(file)\n",
    "t1t2 = []\n",
    "## Change the T1 T2 time\n",
    "for i in data[\"qubits\"]:\n",
    "    # i[0][\"value\"] = 500 #us #T1\n",
    "    # i[1][\"value\"] = 500 #us #T2\n",
    "    print(i[0])\n",
    "    print(i[1])\n",
    "    t1t2.append(i[0][\"value\"])\n",
    "    t1t2.append(i[1][\"value\"])\n",
    "\n",
    "## Change the Gate Errors \n",
    "for i in data[\"gates\"]:\n",
    "    if i[\"parameters\"][0][\"name\"] == 'gate_error':\n",
    "        i[\"value\"] = 1e-6\n",
    "\n",
    "## Change the readout error\n",
    "for i in data[\"qubits\"]:\n",
    "    i[4][\"value\"] = 1e-6\n",
    "\n",
    "## Change the Probablity measurment\n",
    "## AND Change the Readout_length\n",
    "for i in data[\"qubits\"]:\n",
    "    i[5][\"value\"] = 1e-6   # Probablity measurment meas0 prep1\n",
    "    i[6][\"value\"] = 1e-6   # Probablity measurment meas1 prep0\n",
    "    i[7][\"value\"] = 300 # Readout Lenght\n",
    "\n",
    "# ## Change the Gate Length \n",
    "# for i in data[\"gates\"]:\n",
    "#     if i[\"parameters\"][0][\"name\"] == 'gate_error':\n",
    "#         i[\"parameters\"][1][\"value\"] = 50 #ns\n"
   ]
  },
  {
   "cell_type": "code",
   "execution_count": null,
   "metadata": {},
   "outputs": [],
   "source": [
    "# newdata = json.dumps(data, indent=4)\n",
    "# with open(updatedbackend_filepath, \"w\") as file: \n",
    "#     file.write(newdata)"
   ]
  },
  {
   "cell_type": "code",
   "execution_count": null,
   "metadata": {},
   "outputs": [],
   "source": [
    "# backend_filepath = \"fake_johor-Fresh\\\\props_fakejohor.json\"\n",
    "\n",
    "# with open(backend_filepath, \"r\") as file: \n",
    "#     data = json.load(file)\n",
    "\n",
    "# error = []\n",
    "# for i in data[\"gates\"]:\n",
    "#     if i[\"parameters\"][0][\"name\"] == 'gate_error':\n",
    "#         error.append(i[\"parameters\"][0][\"value\"])\n",
    "\n",
    "# import pandas as pd\n",
    "\n",
    "# s = pd.Series(error)\n",
    "# s.describe()"
   ]
  },
  {
   "cell_type": "markdown",
   "metadata": {},
   "source": [
    "# For Bulk manipulation"
   ]
  },
  {
   "cell_type": "code",
   "execution_count": null,
   "metadata": {},
   "outputs": [],
   "source": [
    "# import json\n",
    "\n",
    "# # Defining Path\n",
    "# ## Raw Setup\n",
    "# backend_filepath = \"fake_johor-Fresh\\\\props_fakejohor.json\"\n",
    "\n",
    "# # Path for FJ\n",
    "# ## Construct dir\n",
    "# import os\n",
    "# des_path_list = [\n",
    "#     \"fake_johor_FJ031\",\n",
    "#     \"fake_johor_FJ032\",\n",
    "#     \"fake_johor_FJ033\",\n",
    "#     \"fake_johor_FJ034\",\n",
    "#     \"fake_johor_FJ035\",\n",
    "#     \"fake_johor_FJ036\",\n",
    "#     \"fake_johor_FJ037\",\n",
    "# ]\n",
    "# for fj in des_path_list:\n",
    "#     source_dir = \"fake_johor-Fresh\"\n",
    "#     dest_dir = os.path.join(fj)\n",
    "#     !cp -r $source_dir $dest_dir"
   ]
  },
  {
   "cell_type": "code",
   "execution_count": null,
   "metadata": {},
   "outputs": [],
   "source": [
    "# # T1T2 changed value\n",
    "# T1T2_list = [ 500000, 50000, 5000, 1000, 500, 50, 5 ] # unit of us\n",
    "# # Errors changed value\n",
    "# error_list = [ 1.00e-04 ]\n",
    "\n",
    "# # To change T1T2 and Errors\n",
    "# counter = 0\n",
    "# for T1T2 in T1T2_list:\n",
    "#     for error in error_list:\n",
    "        \n",
    "#         # Read Data\n",
    "#         data = None ; newdata = None\n",
    "#         with open(backend_filepath, \"r\") as file: \n",
    "#             data = json.load(file)\n",
    "\n",
    "#         ## Change the T1T2\n",
    "#         for i in data[\"qubits\"]:\n",
    "#             i[0][\"value\"] = T1T2 #us #T1\n",
    "#             i[1][\"value\"] = T1T2 #us #T2\n",
    "\n",
    "#         ## Change the GateErrors \n",
    "#         for i in data[\"gates\"]:\n",
    "#             if i[\"parameters\"][0][\"name\"] == 'gate_error':\n",
    "#                 i[\"parameters\"][0][\"value\"] = error\n",
    "\n",
    "#         ## Change the ReadoutError\n",
    "#         for i in data[\"qubits\"]:\n",
    "#             i[4][\"value\"] = error\n",
    "\n",
    "#         ## Change the Probablity Measurement Error\n",
    "#         for i in data[\"qubits\"]:\n",
    "#             i[5][\"value\"] = error   # Probablity measurment meas0 prep1\n",
    "#             i[6][\"value\"] = error   # Probablity measurment meas1 prep0\n",
    "        \n",
    "#         # Write Data\n",
    "#         des_path = des_path_list[counter]\n",
    "#         updatedbackend_filepath =  des_path + \"/props_fakejohor.json\"\n",
    "        \n",
    "#         newdata = json.dumps(data, indent=4)\n",
    "#         with open(updatedbackend_filepath, \"w\") as file: \n",
    "#             file.write(newdata)\n",
    "\n",
    "#         counter+=1"
   ]
  },
  {
   "cell_type": "code",
   "execution_count": null,
   "metadata": {},
   "outputs": [],
   "source": []
  }
 ],
 "metadata": {
  "kernelspec": {
   "display_name": "QisNuke44",
   "language": "python",
   "name": "python3"
  },
  "language_info": {
   "codemirror_mode": {
    "name": "ipython",
    "version": 3
   },
   "file_extension": ".py",
   "mimetype": "text/x-python",
   "name": "python",
   "nbconvert_exporter": "python",
   "pygments_lexer": "ipython3",
   "version": "3.9.0"
  },
  "orig_nbformat": 4
 },
 "nbformat": 4,
 "nbformat_minor": 2
}
