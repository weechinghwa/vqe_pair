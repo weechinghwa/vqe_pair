{
 "cells": [
  {
   "cell_type": "code",
   "execution_count": 11,
   "metadata": {},
   "outputs": [],
   "source": [
    "import json\n",
    "\n",
    "backend_filepath = \"fake_johor-Fresh\\\\props_fakejohor.json\"\n",
    "updatedbackend_filepath = \"../Compute/FakeBackends/fake_johor/props_fakejohor.json\"\n",
    "\n",
    "with open(backend_filepath, \"r\") as file: \n",
    "    data = json.load(file)\n",
    "\n",
    "## Change the T1 T2 time\n",
    "for i in data[\"qubits\"]:\n",
    "    i[0][\"value\"] = 500000 #us\n",
    "    i[1][\"value\"] = 500000 #us\n",
    "\n",
    "## Change the Gate Errors \n",
    "for i in data[\"gates\"]:\n",
    "    if i[\"parameters\"][0][\"name\"] == 'gate_error':\n",
    "        i[\"parameters\"][0][\"value\"] = 1e-5\n",
    "\n",
    "## Change the readout error\n",
    "for i in data[\"qubits\"]:\n",
    "    i[4][\"value\"] = 1e-5\n",
    "\n",
    "## Change the Probablity measurment\n",
    "## AND Change the Readout_length\n",
    "for i in data[\"qubits\"]:\n",
    "    i[5][\"value\"] = 1e-5\n",
    "    i[6][\"value\"] = 1e-5\n",
    "    # i[7][\"value\"] = 300\n",
    "\n",
    "# ## Change the Gate Length \n",
    "# for i in data[\"gates\"]:\n",
    "#     if i[\"parameters\"][0][\"name\"] == 'gate_error':\n",
    "#         i[\"parameters\"][1][\"value\"] = 50 #ns\n"
   ]
  },
  {
   "cell_type": "code",
   "execution_count": 12,
   "metadata": {},
   "outputs": [],
   "source": [
    "newdata = json.dumps(data, indent=4)\n",
    "with open(updatedbackend_filepath, \"w\") as file: \n",
    "    file.write(newdata)"
   ]
  },
  {
   "cell_type": "code",
   "execution_count": 3,
   "metadata": {},
   "outputs": [
    {
     "data": {
      "text/plain": [
       "count    96.000000\n",
       "mean      0.003798\n",
       "std       0.005371\n",
       "min       0.000000\n",
       "25%       0.000246\n",
       "50%       0.000376\n",
       "75%       0.007435\n",
       "max       0.019895\n",
       "dtype: float64"
      ]
     },
     "execution_count": 3,
     "metadata": {},
     "output_type": "execute_result"
    }
   ],
   "source": [
    "backend_filepath = \"fake_johor-Fresh\\\\props_fakejohor.json\"\n",
    "\n",
    "with open(backend_filepath, \"r\") as file: \n",
    "    data = json.load(file)\n",
    "\n",
    "error = []\n",
    "for i in data[\"gates\"]:\n",
    "    if i[\"parameters\"][0][\"name\"] == 'gate_error':\n",
    "        error.append(i[\"parameters\"][0][\"value\"])\n",
    "\n",
    "import pandas as pd\n",
    "\n",
    "s = pd.Series(error)\n",
    "s.describe()"
   ]
  },
  {
   "cell_type": "code",
   "execution_count": null,
   "metadata": {},
   "outputs": [],
   "source": []
  }
 ],
 "metadata": {
  "kernelspec": {
   "display_name": "QisNuke44",
   "language": "python",
   "name": "python3"
  },
  "language_info": {
   "codemirror_mode": {
    "name": "ipython",
    "version": 3
   },
   "file_extension": ".py",
   "mimetype": "text/x-python",
   "name": "python",
   "nbconvert_exporter": "python",
   "pygments_lexer": "ipython3",
   "version": "3.9.0"
  },
  "orig_nbformat": 4
 },
 "nbformat": 4,
 "nbformat_minor": 2
}
