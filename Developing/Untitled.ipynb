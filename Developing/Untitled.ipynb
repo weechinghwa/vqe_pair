{
 "cells": [
  {
   "cell_type": "code",
   "execution_count": 6,
   "id": "c887615b",
   "metadata": {},
   "outputs": [
    {
     "name": "stdout",
     "output_type": "stream",
     "text": [
      "False\n",
      "False\n",
      "False\n",
      "3\n"
     ]
    }
   ],
   "source": [
    "listofboolean = [True, False, True, True]\n",
    "dumvar = 0\n",
    "for i in listofboolean:\n",
    "    if i == True:\n",
    "        print(listofboolean[i])\n",
    "        dumvar += 1\n",
    "    else:\n",
    "        pass\n",
    "print(dumvar)"
   ]
  },
  {
   "cell_type": "code",
   "execution_count": 44,
   "id": "922e2eb1",
   "metadata": {},
   "outputs": [
    {
     "data": {
      "text/html": [
       "<div>\n",
       "<style scoped>\n",
       "    .dataframe tbody tr th:only-of-type {\n",
       "        vertical-align: middle;\n",
       "    }\n",
       "\n",
       "    .dataframe tbody tr th {\n",
       "        vertical-align: top;\n",
       "    }\n",
       "\n",
       "    .dataframe thead th {\n",
       "        text-align: right;\n",
       "    }\n",
       "</style>\n",
       "<table border=\"1\" class=\"dataframe\">\n",
       "  <thead>\n",
       "    <tr style=\"text-align: right;\">\n",
       "      <th></th>\n",
       "      <th>age1</th>\n",
       "      <th>age2</th>\n",
       "    </tr>\n",
       "  </thead>\n",
       "  <tbody>\n",
       "    <tr>\n",
       "      <th>0</th>\n",
       "      <td>5</td>\n",
       "      <td>12</td>\n",
       "    </tr>\n",
       "    <tr>\n",
       "      <th>1</th>\n",
       "      <td>17</td>\n",
       "      <td>18</td>\n",
       "    </tr>\n",
       "    <tr>\n",
       "      <th>2</th>\n",
       "      <td>24</td>\n",
       "      <td>32</td>\n",
       "    </tr>\n",
       "  </tbody>\n",
       "</table>\n",
       "</div>"
      ],
      "text/plain": [
       "  age1 age2\n",
       "0    5   12\n",
       "1   17   18\n",
       "2   24   32"
      ]
     },
     "execution_count": 44,
     "metadata": {},
     "output_type": "execute_result"
    }
   ],
   "source": [
    "import pandas as pd\n",
    "ages_list = [[5, 12], [17, 18], [24, 32]]\n",
    "ages = pd.DataFrame(columns = ['age1','age2'])\n",
    "for counter, i in enumerate(ages_list):\n",
    "    ages.loc[counter] = i\n",
    "ages"
   ]
  },
  {
   "cell_type": "code",
   "execution_count": 45,
   "id": "b5ebc825",
   "metadata": {},
   "outputs": [
    {
     "ename": "ValueError",
     "evalue": "The truth value of a Series is ambiguous. Use a.empty, a.bool(), a.item(), a.any() or a.all().",
     "output_type": "error",
     "traceback": [
      "\u001b[1;31m---------------------------------------------------------------------------\u001b[0m",
      "\u001b[1;31mValueError\u001b[0m                                Traceback (most recent call last)",
      "\u001b[1;32m~\\AppData\\Local\\Temp/ipykernel_15976/3629107089.py\u001b[0m in \u001b[0;36m<module>\u001b[1;34m\u001b[0m\n\u001b[1;32m----> 1\u001b[1;33m \u001b[0mages2\u001b[0m\u001b[1;33m=\u001b[0m\u001b[0mages\u001b[0m\u001b[1;33m.\u001b[0m\u001b[0mloc\u001b[0m\u001b[1;33m[\u001b[0m\u001b[1;33m(\u001b[0m\u001b[0mages\u001b[0m\u001b[1;33m[\u001b[0m\u001b[1;34m'age1'\u001b[0m\u001b[1;33m]\u001b[0m \u001b[1;33m>=\u001b[0m \u001b[1;36m6\u001b[0m \u001b[1;32mor\u001b[0m \u001b[0mages\u001b[0m\u001b[1;33m[\u001b[0m\u001b[1;34m'age2'\u001b[0m\u001b[1;33m]\u001b[0m \u001b[1;33m>=\u001b[0m \u001b[1;36m23000\u001b[0m \u001b[1;33m)\u001b[0m\u001b[1;33m]\u001b[0m\u001b[1;33m\u001b[0m\u001b[1;33m\u001b[0m\u001b[0m\n\u001b[0m\u001b[0;32m      2\u001b[0m \u001b[0mages2\u001b[0m\u001b[1;33m\u001b[0m\u001b[1;33m\u001b[0m\u001b[0m\n",
      "\u001b[1;32m~\\Anaconda3\\envs\\QisNuke\\lib\\site-packages\\pandas\\core\\generic.py\u001b[0m in \u001b[0;36m__nonzero__\u001b[1;34m(self)\u001b[0m\n\u001b[0;32m   1536\u001b[0m     \u001b[1;32mdef\u001b[0m \u001b[0m__nonzero__\u001b[0m\u001b[1;33m(\u001b[0m\u001b[0mself\u001b[0m\u001b[1;33m)\u001b[0m\u001b[1;33m:\u001b[0m\u001b[1;33m\u001b[0m\u001b[1;33m\u001b[0m\u001b[0m\n\u001b[0;32m   1537\u001b[0m         raise ValueError(\n\u001b[1;32m-> 1538\u001b[1;33m             \u001b[1;34mf\"The truth value of a {type(self).__name__} is ambiguous. \"\u001b[0m\u001b[1;33m\u001b[0m\u001b[1;33m\u001b[0m\u001b[0m\n\u001b[0m\u001b[0;32m   1539\u001b[0m             \u001b[1;34m\"Use a.empty, a.bool(), a.item(), a.any() or a.all().\"\u001b[0m\u001b[1;33m\u001b[0m\u001b[1;33m\u001b[0m\u001b[0m\n\u001b[0;32m   1540\u001b[0m         )\n",
      "\u001b[1;31mValueError\u001b[0m: The truth value of a Series is ambiguous. Use a.empty, a.bool(), a.item(), a.any() or a.all()."
     ]
    }
   ],
   "source": [
    "ages2=ages.loc[(ages['age1'] >= 6 or ages['age2'] >= 23000 )]\n",
    "ages2"
   ]
  },
  {
   "cell_type": "code",
   "execution_count": 27,
   "id": "f7d6e623",
   "metadata": {},
   "outputs": [],
   "source": [
    "def Filter(matrix_elements:\"DataFrame\", condition_list:\"list\")->\"DataFrame\":\n",
    "    def func_reserve_interaction(x):\n",
    "        condition_list = [\n",
    "            [(5 in x) or (18 in x)],\n",
    "            [(sum(x)>30)]]\n",
    "        if condition_list.count(condition_list[0]) == len(condition_list):\n",
    "            return False\n",
    "        else:\n",
    "            return True\n",
    "    filtered = filter(func_reserve_interaction, matrix_elements)\n",
    "    return filtered\n",
    "\n"
   ]
  },
  {
   "cell_type": "code",
   "execution_count": 8,
   "id": "4d54f20d",
   "metadata": {},
   "outputs": [
    {
     "name": "stdout",
     "output_type": "stream",
     "text": [
      "True\n"
     ]
    }
   ],
   "source": [
    "condition_list = [True, True, True]\n",
    "# Result from count matches with result from len()\n",
    "result = condition_list.count(condition_list[0]) == len(condition_list)\n",
    "print(result)"
   ]
  },
  {
   "cell_type": "code",
   "execution_count": 31,
   "id": "63e80a41",
   "metadata": {},
   "outputs": [
    {
     "name": "stdout",
     "output_type": "stream",
     "text": [
      "<filter object at 0x000001DCC09C5A48>\n"
     ]
    }
   ],
   "source": [
    "def func_reserve_interaction(x):\n",
    "    condition_list = [\n",
    "        [(5 in x) or (18 in x)],\n",
    "        [(sum(x)>30)]]\n",
    "    if condition_list.count(condition_list[0]) == len(condition_list):\n",
    "        return False\n",
    "    else:\n",
    "        return True\n",
    "filtered = filter(func_reserve_interaction, ages)\n",
    "print(filtered)"
   ]
  },
  {
   "cell_type": "code",
   "execution_count": 35,
   "id": "3609b759",
   "metadata": {},
   "outputs": [
    {
     "name": "stdout",
     "output_type": "stream",
     "text": [
      "[18, 24, 32]\n"
     ]
    }
   ],
   "source": [
    "ages = [5, 12, 17, 18, 24, 32]\n",
    "\n",
    "def myFunc(x):\n",
    "    if x < 18:\n",
    "        return False\n",
    "    else:\n",
    "        return True\n",
    "\n",
    "adults = filter(myFunc, ages)\n",
    "\n",
    "print(list(adults))\n",
    "for x in adults:\n",
    "    print(x)"
   ]
  },
  {
   "cell_type": "code",
   "execution_count": null,
   "id": "891513f2",
   "metadata": {},
   "outputs": [],
   "source": [
    "# condition list generator\n",
    "degenerate_levels = "
   ]
  }
 ],
 "metadata": {
  "kernelspec": {
   "display_name": "Python 3 (ipykernel)",
   "language": "python",
   "name": "python3"
  },
  "language_info": {
   "codemirror_mode": {
    "name": "ipython",
    "version": 3
   },
   "file_extension": ".py",
   "mimetype": "text/x-python",
   "name": "python",
   "nbconvert_exporter": "python",
   "pygments_lexer": "ipython3",
   "version": "3.7.11"
  }
 },
 "nbformat": 4,
 "nbformat_minor": 5
}
