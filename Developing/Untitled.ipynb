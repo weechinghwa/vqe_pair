{
 "cells": [
  {
   "cell_type": "code",
   "execution_count": 6,
   "id": "c887615b",
   "metadata": {},
   "outputs": [
    {
     "name": "stdout",
     "output_type": "stream",
     "text": [
      "False\n",
      "False\n",
      "False\n",
      "3\n"
     ]
    }
   ],
   "source": [
    "listofboolean = [True, False, True, True]\n",
    "dumvar = 0\n",
    "for i in listofboolean:\n",
    "    if i == True:\n",
    "        print(listofboolean[i])\n",
    "        dumvar += 1\n",
    "    else:\n",
    "        pass\n",
    "print(dumvar)"
   ]
  },
  {
   "cell_type": "code",
   "execution_count": null,
   "id": "922e2eb1",
   "metadata": {},
   "outputs": [],
   "source": []
  }
 ],
 "metadata": {
  "kernelspec": {
   "display_name": "Python 3 (ipykernel)",
   "language": "python",
   "name": "python3"
  },
  "language_info": {
   "codemirror_mode": {
    "name": "ipython",
    "version": 3
   },
   "file_extension": ".py",
   "mimetype": "text/x-python",
   "name": "python",
   "nbconvert_exporter": "python",
   "pygments_lexer": "ipython3",
   "version": "3.7.11"
  }
 },
 "nbformat": 4,
 "nbformat_minor": 5
}
